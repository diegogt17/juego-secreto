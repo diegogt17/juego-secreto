{
  "nbformat": 4,
  "nbformat_minor": 0,
  "metadata": {
    "colab": {
      "provenance": [],
      "include_colab_link": true
    },
    "kernelspec": {
      "name": "python3",
      "display_name": "Python 3"
    },
    "language_info": {
      "name": "python"
    }
  },
  "cells": [
    {
      "cell_type": "markdown",
      "metadata": {
        "id": "view-in-github",
        "colab_type": "text"
      },
      "source": [
        "<a href=\"https://colab.research.google.com/github/diegogt17/juego-secreto/blob/main/Python_Data_Science.ipynb\" target=\"_parent\"><img src=\"https://colab.research.google.com/assets/colab-badge.svg\" alt=\"Open In Colab\"/></a>"
      ]
    },
    {
      "cell_type": "markdown",
      "source": [
        "# Python para Data Science\n",
        "\n",
        "Notebook para el curso de Python para Data Science publicado en la plataforma de [Alura Latam](https://www.aluracursos.com/)"
      ],
      "metadata": {
        "id": "lQx6Mmv0OJyT"
      }
    },
    {
      "cell_type": "markdown",
      "source": [
        "# Introducción a Python\n",
        "¡Vamos a conocer Python, nuestro ambiente de estudio, y también generaremos nuestro primer código en este lenguaje!"
      ],
      "metadata": {
        "id": "7SiB6JIpYKmY"
      }
    },
    {
      "cell_type": "markdown",
      "source": [
        "## Google Colaboratory\n",
        "\n",
        "Ya aprendimos qué es [Python](https://www.python.org/) y ahora aprenderemos a usar nuestra herramienta de ejecución [Google Colaboratory](https://colab.research.google.com/) para programar en un notebook interactivo.\n",
        "\n",
        "Vamos a probar algunas funciones de este ambiente."
      ],
      "metadata": {
        "id": "Yugfb3fCOYY9"
      }
    },
    {
      "cell_type": "markdown",
      "source": [
        " **`>>> Usa esta celda para mover <<<`**"
      ],
      "metadata": {
        "id": "2iUHQsJasJAk"
      }
    },
    {
      "cell_type": "code",
      "source": [],
      "metadata": {
        "id": "o7jrX_iKhdkU"
      },
      "execution_count": null,
      "outputs": []
    },
    {
      "cell_type": "markdown",
      "source": [
        "## ¡Hola mundo!\n",
        "\n",
        "Vamos a conocer un poco más de cerca nuestro notebook. Para ello ejecutaremos nuestro primer comando en Python: [`print()`](https://docs.python.org/3/library/functions.html#print)"
      ],
      "metadata": {
        "id": "aLSFP2V7XTfe"
      }
    },
    {
      "cell_type": "code",
      "source": [
        "print(\"Hola Mundo\")"
      ],
      "metadata": {
        "id": "0qZX8_ZQBYyk",
        "outputId": "0646e52a-2a0c-4105-ff52-7831195e1675",
        "colab": {
          "base_uri": "https://localhost:8080/"
        }
      },
      "execution_count": null,
      "outputs": [
        {
          "output_type": "stream",
          "name": "stdout",
          "text": [
            "Hola Mundo\n"
          ]
        }
      ]
    },
    {
      "cell_type": "code",
      "source": [
        "112"
      ],
      "metadata": {
        "id": "GLMzF_AKBY7a",
        "outputId": "c83d1d52-02fd-47d3-a651-fdaabcc40a11",
        "colab": {
          "base_uri": "https://localhost:8080/"
        }
      },
      "execution_count": null,
      "outputs": [
        {
          "output_type": "execute_result",
          "data": {
            "text/plain": [
              "112"
            ]
          },
          "metadata": {},
          "execution_count": 2
        }
      ]
    },
    {
      "cell_type": "code",
      "source": [
        "print(\"Mi nombre es Diego Gómez, estoy estudiando Data Science\")"
      ],
      "metadata": {
        "id": "zYgDua8suiO0",
        "outputId": "d4d916e7-c34c-48a7-d0af-c9fca605ee89",
        "colab": {
          "base_uri": "https://localhost:8080/"
        }
      },
      "execution_count": null,
      "outputs": [
        {
          "output_type": "stream",
          "name": "stdout",
          "text": [
            "Mi nombre es Diego Gómez, estoy estudiando Data Science\n"
          ]
        }
      ]
    },
    {
      "cell_type": "code",
      "source": [
        "print(\"Año actual: \", 2025)"
      ],
      "metadata": {
        "id": "z2K0N1MzvUBf",
        "outputId": "466544b2-1163-4bd0-95a0-d06ee6ba05a5",
        "colab": {
          "base_uri": "https://localhost:8080/"
        }
      },
      "execution_count": null,
      "outputs": [
        {
          "output_type": "stream",
          "name": "stdout",
          "text": [
            "Año actual:  2025\n"
          ]
        }
      ]
    },
    {
      "cell_type": "markdown",
      "source": [
        "# Manipulando los datos\n",
        "\n",
        "Vamos a aprender sobre las variables en Python, cómo declararlas y utilizarlas además de conocer otros comandos de este lenguaje. :D"
      ],
      "metadata": {
        "id": "iP8uWQmFYFRs"
      }
    },
    {
      "cell_type": "markdown",
      "source": [
        "## Variables\n",
        "\n",
        "En Data Science trabajamos con varios tipos de datos e informaciones, entonces es esencial saber cómo trabajar con las variables."
      ],
      "metadata": {
        "id": "sLNVmnTbag1Z"
      }
    },
    {
      "cell_type": "markdown",
      "source": [
        "Las variables en Python se crean cuando atribuimos un valor a ella.\n",
        "\n",
        "Para esto, colocamos el nombre de la variable, el signo de igual (`=`) y el valor que queremos atribuirle."
      ],
      "metadata": {
        "id": "lsCY0wahAbf6"
      }
    },
    {
      "cell_type": "code",
      "source": [
        "edad = 5"
      ],
      "metadata": {
        "id": "vsHh5buZADND"
      },
      "execution_count": null,
      "outputs": []
    },
    {
      "cell_type": "code",
      "source": [
        "type(edad)"
      ],
      "metadata": {
        "id": "sivPtqSjADQV",
        "outputId": "a3b18fea-acb4-4cbe-8a41-28cd0bf9391c",
        "colab": {
          "base_uri": "https://localhost:8080/"
        }
      },
      "execution_count": null,
      "outputs": [
        {
          "output_type": "execute_result",
          "data": {
            "text/plain": [
              "int"
            ]
          },
          "metadata": {},
          "execution_count": 6
        }
      ]
    },
    {
      "cell_type": "code",
      "source": [
        "promedio = 9.5"
      ],
      "metadata": {
        "id": "JC8jO47wADlm"
      },
      "execution_count": null,
      "outputs": []
    },
    {
      "cell_type": "code",
      "source": [
        "type(promedio)"
      ],
      "metadata": {
        "id": "UVPLfZVRqVhD",
        "outputId": "48f63b93-1ae7-422d-e110-1a06b10de98a",
        "colab": {
          "base_uri": "https://localhost:8080/"
        }
      },
      "execution_count": null,
      "outputs": [
        {
          "output_type": "execute_result",
          "data": {
            "text/plain": [
              "float"
            ]
          },
          "metadata": {},
          "execution_count": 8
        }
      ]
    },
    {
      "cell_type": "code",
      "source": [
        "nombre = \"Diego\""
      ],
      "metadata": {
        "id": "DZWT9lwGqYeA"
      },
      "execution_count": null,
      "outputs": []
    },
    {
      "cell_type": "code",
      "source": [
        "type(nombre)"
      ],
      "metadata": {
        "id": "oDPGNyKeqYji",
        "outputId": "6cdb9ce4-5368-434d-e09b-cd94a4af0253",
        "colab": {
          "base_uri": "https://localhost:8080/"
        }
      },
      "execution_count": null,
      "outputs": [
        {
          "output_type": "execute_result",
          "data": {
            "text/plain": [
              "str"
            ]
          },
          "metadata": {},
          "execution_count": 10
        }
      ]
    },
    {
      "cell_type": "code",
      "source": [
        "V = True"
      ],
      "metadata": {
        "id": "jJdYcRflqnPg"
      },
      "execution_count": null,
      "outputs": []
    },
    {
      "cell_type": "code",
      "source": [
        "type(V)"
      ],
      "metadata": {
        "id": "EpOTRVb4qne-",
        "outputId": "0f7ae81f-1547-4215-e541-df2c273f3a58",
        "colab": {
          "base_uri": "https://localhost:8080/"
        }
      },
      "execution_count": null,
      "outputs": [
        {
          "output_type": "execute_result",
          "data": {
            "text/plain": [
              "bool"
            ]
          },
          "metadata": {},
          "execution_count": 12
        }
      ]
    },
    {
      "cell_type": "markdown",
      "source": [
        "Existen algunos tipos de nomes que **no** podemos definir para las variables:\n",
        "\n",
        "- **Nombres que comiencen con números**\n",
        "  - Ejemplos: `10_notas`, `2_nombre_casa`, etc.\n",
        "- **Palabras separadas por espacio**\n",
        "  - Ejemplos: `Nombre escuela`, `notas estudiantes`, etc.\n",
        "- **Nombres de funciones de Python**\n",
        "  - Ejemplos: `print`, `type`, etc."
      ],
      "metadata": {
        "id": "om2N0jHKAzwL"
      }
    },
    {
      "cell_type": "code",
      "source": [
        "nombre_estudiante = 'Penelope Camacho'\n",
        "edad_estudiante = 11\n",
        "promedio_estudiante = 9\n",
        "aprobado = True\n",
        "\n",
        "print(nombre_estudiante,edad_estudiante,promedio_estudiante,aprobado)\n",
        "print(type(nombre_estudiante),type(edad_estudiante),type(promedio_estudiante),type(aprobado))"
      ],
      "metadata": {
        "id": "MoJ57kW6q7Bo",
        "outputId": "4e01fd23-071b-4d94-f30b-e39507b445cf",
        "colab": {
          "base_uri": "https://localhost:8080/"
        }
      },
      "execution_count": null,
      "outputs": [
        {
          "output_type": "stream",
          "name": "stdout",
          "text": [
            "Penelope Camacho 11 9 True\n",
            "<class 'str'> <class 'int'> <class 'int'> <class 'bool'>\n"
          ]
        }
      ]
    },
    {
      "cell_type": "markdown",
      "source": [
        "> Las letras mayúsculas y minúsculas generarán diferentes variables. La variable `edad` es diferente de `Edad` que a su vez es diferente de `EDAD`:\n",
        "``` Python\n",
        "edad = 1\n",
        "Edad = 2\n",
        "EDAD = 3\n",
        "_edad = 4\n",
        "_edad_ = 5\n",
        "print(edad, Edad, EDAD, _edad, _edad_)\n",
        "1 2 3 4 5\n",
        "```"
      ],
      "metadata": {
        "id": "A19vY2GVMujB"
      }
    },
    {
      "cell_type": "markdown",
      "source": [
        "## Tipos de variables\n",
        "\n",
        "Cada variable contiene una clase específica con respecto al tipo de objeto al cual esta hace referencia. Estas clases serán diferentes de acuerdo con el tipo de dato que le sea atribuido a una variable.\n",
        "\n",
        "Para conocer la clase de cada elemento usamos la función [`type()`](https://docs.python.org/3/library/functions.html#type)"
      ],
      "metadata": {
        "id": "UqhzuBhBHsps"
      }
    },
    {
      "cell_type": "code",
      "source": [],
      "metadata": {
        "id": "J5a9t73A_-PX"
      },
      "execution_count": null,
      "outputs": []
    },
    {
      "cell_type": "code",
      "source": [],
      "metadata": {
        "id": "rqmO1ew-_-So"
      },
      "execution_count": null,
      "outputs": []
    },
    {
      "cell_type": "code",
      "source": [],
      "metadata": {
        "id": "xkrPMkeY_-cP"
      },
      "execution_count": null,
      "outputs": []
    },
    {
      "cell_type": "markdown",
      "source": [
        "En un conjunto de datos escolares podemos tener varios tipos de informaciones. Supongamos que tenemos acceso a la ficha de datos del alumno *Penélope Camacho*, cómo transformamos este nombre en variables de Python?\n",
        "\n",
        "#### Ficha:\n",
        "\n",
        "- Nombre: Penélope Camacho\n",
        "- Edad: 11 años\n",
        "- Promedio del semestre: 9,75\n",
        "- Situación de aprobación: Verdadera (aprobado)"
      ],
      "metadata": {
        "id": "O-FxDumfWu0C"
      }
    },
    {
      "cell_type": "code",
      "source": [],
      "metadata": {
        "id": "FabQ7jQf_8Xt"
      },
      "execution_count": null,
      "outputs": []
    },
    {
      "cell_type": "code",
      "source": [],
      "metadata": {
        "id": "IZLQnZUj_8bd"
      },
      "execution_count": null,
      "outputs": []
    },
    {
      "cell_type": "markdown",
      "source": [
        "## Variables numéricas\n",
        "\n",
        "Entre los tipos de datos numéricos vamos a enfocarnos en los tipos `entero` y `float`."
      ],
      "metadata": {
        "id": "KFq_8Sxf-OG0"
      }
    },
    {
      "cell_type": "markdown",
      "source": [
        "Tenemos una tabla de información sobre los diversos cargos, cantidad de personas empleadas y el salario correspondiente:\n",
        "\n",
        "|Cargo | Cantidad | Salario|\n",
        "|---|---|---|\n",
        "|Vigilante | 5 | 300 |\n",
        "|Docente | 16| 500|\n",
        "|Coordinador| 2 |600|\n",
        "\n",
        "Necesitamos trabajar con estos datos para obtener:\n",
        "\n",
        "- La cantidad total de empleados;\n",
        "- La diferencia entre el salario más bajo y más alto; y\n",
        "- El promedio ponderado de los salarios de los empleados de la escuela."
      ],
      "metadata": {
        "id": "8_HYUbkVYdQY"
      }
    },
    {
      "cell_type": "code",
      "source": [
        "c_vigilante = 5\n",
        "s_vigilante = 300\n",
        "\n",
        "c_docente = 16\n",
        "s_docente = 500\n",
        "\n",
        "c_coordinador = 2\n",
        "s_coordinador = 600"
      ],
      "metadata": {
        "id": "F_X-wxdm_5Ys"
      },
      "execution_count": null,
      "outputs": []
    },
    {
      "cell_type": "code",
      "source": [
        "total_empleados = c_vigilante + c_docente + c_coordinador\n",
        "total_empleados"
      ],
      "metadata": {
        "id": "gKmBbhII_5b9",
        "outputId": "dff8aab5-6a69-45fc-fe73-93177d72e1db",
        "colab": {
          "base_uri": "https://localhost:8080/"
        }
      },
      "execution_count": null,
      "outputs": [
        {
          "output_type": "execute_result",
          "data": {
            "text/plain": [
              "23"
            ]
          },
          "metadata": {},
          "execution_count": 15
        }
      ]
    },
    {
      "cell_type": "code",
      "source": [
        "diferencia_salario = s_coordinador - s_vigilante\n",
        "diferencia_salario"
      ],
      "metadata": {
        "id": "fIugsxNy_53j",
        "outputId": "31458748-635d-400d-beeb-518a01e7d508",
        "colab": {
          "base_uri": "https://localhost:8080/"
        }
      },
      "execution_count": null,
      "outputs": [
        {
          "output_type": "execute_result",
          "data": {
            "text/plain": [
              "300"
            ]
          },
          "metadata": {},
          "execution_count": 16
        }
      ]
    },
    {
      "cell_type": "code",
      "source": [
        "promedio_ponderado = (c_vigilante * s_vigilante + c_docente * s_docente + c_coordinador * s_coordinador) / total_empleados\n",
        "promedio_ponderado"
      ],
      "metadata": {
        "id": "1CxfYkkmtgL-",
        "outputId": "90f742f6-b4dd-4aeb-cf5f-ce776bfd5d5f",
        "colab": {
          "base_uri": "https://localhost:8080/"
        }
      },
      "execution_count": null,
      "outputs": [
        {
          "output_type": "execute_result",
          "data": {
            "text/plain": [
              "465.2173913043478"
            ]
          },
          "metadata": {},
          "execution_count": 17
        }
      ]
    },
    {
      "cell_type": "code",
      "source": [
        "type(promedio_ponderado)"
      ],
      "metadata": {
        "id": "Bw_71zaYuKsb",
        "outputId": "afa04fed-d9d8-48d8-e6ac-b66912e1f4b1",
        "colab": {
          "base_uri": "https://localhost:8080/"
        }
      },
      "execution_count": null,
      "outputs": [
        {
          "output_type": "execute_result",
          "data": {
            "text/plain": [
              "float"
            ]
          },
          "metadata": {},
          "execution_count": 18
        }
      ]
    },
    {
      "cell_type": "markdown",
      "source": [
        "## Strings"
      ],
      "metadata": {
        "id": "yQy7b0ZWoD-P"
      }
    },
    {
      "cell_type": "markdown",
      "source": [
        "Strings hace referencia a un conjunto de caracteres formando un texto.\n",
        "\n",
        "Podemos crear Strings cuando atribuimos un dato a una variable entre comillas sencillas (`'`) o comillas dobles (`\"`)."
      ],
      "metadata": {
        "id": "vlo2-DXusv3s"
      }
    },
    {
      "cell_type": "code",
      "source": [
        "t = 'Alura'\n",
        "type(t)"
      ],
      "metadata": {
        "id": "ityEWqvh_2wK",
        "outputId": "7922763e-c4f8-4020-c630-1104050b7f65",
        "colab": {
          "base_uri": "https://localhost:8080/"
        }
      },
      "execution_count": null,
      "outputs": [
        {
          "output_type": "execute_result",
          "data": {
            "text/plain": [
              "str"
            ]
          },
          "metadata": {},
          "execution_count": 19
        }
      ]
    },
    {
      "cell_type": "markdown",
      "source": [
        "Las variables textuales son objetos que poseen métodos que nos ayudan a formatear strings. Los métodos los podemos ejecutar al definir un objeto de acuerdo con la siguiente estructura:\n",
        "\n",
        "```\n",
        "objeto.metodo()\n",
        "```\n",
        "\n",
        "Existen métodos que no necesitan los `()`, siempre es una buena práctica verificar la documentación para cada caso."
      ],
      "metadata": {
        "id": "2e9UD_CCxqz_"
      }
    },
    {
      "cell_type": "markdown",
      "source": [
        "---\n",
        "**Situación:**\n",
        "\n",
        "Recibimos una variable con el nombre de una profesora de la escuela para añadirla a los registros. Sin embargo, necesitamos darle un tratamiento a este texto antes de insertarlo al sistema."
      ],
      "metadata": {
        "id": "p6aPmMGP4tf9"
      }
    },
    {
      "cell_type": "code",
      "source": [
        "texto = '  Micaela de los Sanyos '\n",
        "id(texto)"
      ],
      "metadata": {
        "id": "icDWtYTjBO0n",
        "outputId": "9204e87c-2238-4902-8702-585e24df5ea0",
        "colab": {
          "base_uri": "https://localhost:8080/"
        }
      },
      "execution_count": null,
      "outputs": [
        {
          "output_type": "execute_result",
          "data": {
            "text/plain": [
              "140243406327360"
            ]
          },
          "metadata": {},
          "execution_count": 20
        }
      ]
    },
    {
      "cell_type": "markdown",
      "source": [
        "El objetivo final es que el nombre aparezca de la siguiente forma:\n",
        "\n",
        "```\n",
        "'MICAELA DE LOS SANTOS'\n",
        "```"
      ],
      "metadata": {
        "id": "Dg2ZXSZOGzjC"
      }
    },
    {
      "cell_type": "markdown",
      "source": [
        "### [`str.upper()` ](https://docs.python.org/3/library/stdtypes.html#str.upper)\n",
        "Convierte una string a mayúsculas."
      ],
      "metadata": {
        "id": "iVTAD8q702eN"
      }
    },
    {
      "cell_type": "code",
      "source": [
        "texto.upper()"
      ],
      "metadata": {
        "id": "wMVshJrY_ZXh",
        "outputId": "30d590a3-0c90-4957-b36d-e125b98249fd",
        "colab": {
          "base_uri": "https://localhost:8080/",
          "height": 35
        }
      },
      "execution_count": null,
      "outputs": [
        {
          "output_type": "execute_result",
          "data": {
            "text/plain": [
              "'  MICAELA DE LOS SANYOS '"
            ],
            "application/vnd.google.colaboratory.intrinsic+json": {
              "type": "string"
            }
          },
          "metadata": {},
          "execution_count": 21
        }
      ]
    },
    {
      "cell_type": "markdown",
      "source": [
        "### [`str.lower()`](https://docs.python.org/3/library/stdtypes.html#str.lower)\n",
        "Convierte una string a minúsculas."
      ],
      "metadata": {
        "id": "hbDSBtMV1TpG"
      }
    },
    {
      "cell_type": "code",
      "source": [
        "texto.lower()"
      ],
      "metadata": {
        "id": "px3yEeNH_YK4",
        "outputId": "9157df3c-af3a-4e38-dc50-130e043e9b5f",
        "colab": {
          "base_uri": "https://localhost:8080/",
          "height": 35
        }
      },
      "execution_count": null,
      "outputs": [
        {
          "output_type": "execute_result",
          "data": {
            "text/plain": [
              "'  micaela de los sanyos '"
            ],
            "application/vnd.google.colaboratory.intrinsic+json": {
              "type": "string"
            }
          },
          "metadata": {},
          "execution_count": 22
        }
      ]
    },
    {
      "cell_type": "markdown",
      "source": [
        "### [`str.strip()`](https://docs.python.org/3/library/stdtypes.html#str.strip)\n",
        "Elimina los espacios en blanco al inicio y al final de una string."
      ],
      "metadata": {
        "id": "kz47eWM11gii"
      }
    },
    {
      "cell_type": "code",
      "source": [
        "texto.strip()"
      ],
      "metadata": {
        "id": "76dLgNa4_XAe",
        "outputId": "812f42cd-fb0b-4d4a-86c3-0a129ac5f638",
        "colab": {
          "base_uri": "https://localhost:8080/",
          "height": 35
        }
      },
      "execution_count": null,
      "outputs": [
        {
          "output_type": "execute_result",
          "data": {
            "text/plain": [
              "'Micaela de los Sanyos'"
            ],
            "application/vnd.google.colaboratory.intrinsic+json": {
              "type": "string"
            }
          },
          "metadata": {},
          "execution_count": 23
        }
      ]
    },
    {
      "cell_type": "markdown",
      "source": [
        "### [`str.replace(antiguo, nuevo)`](https://docs.python.org/3/library/stdtypes.html#str.replace)\n",
        "\n",
        "Sustituye todas las ocurrencias del texto \"antiguo\" en la string por el  \"nuevo\"."
      ],
      "metadata": {
        "id": "m6notiyS1SCV"
      }
    },
    {
      "cell_type": "code",
      "source": [
        "texto.replace('y','t')"
      ],
      "metadata": {
        "id": "PNXAixtE_V6R",
        "outputId": "26fbdee5-df91-4957-f53f-a34c9c43f588",
        "colab": {
          "base_uri": "https://localhost:8080/",
          "height": 35
        }
      },
      "execution_count": null,
      "outputs": [
        {
          "output_type": "execute_result",
          "data": {
            "text/plain": [
              "'  Micaela de los Santos '"
            ],
            "application/vnd.google.colaboratory.intrinsic+json": {
              "type": "string"
            }
          },
          "metadata": {},
          "execution_count": 24
        }
      ]
    },
    {
      "cell_type": "markdown",
      "source": [
        "### Observaciones\n",
        "\n",
        "1. Los métodos devuelven una **tranformación**, no son ejecutados directamente sobre la variable donde está almacenado el texto.\n",
        "\n",
        "2. Adicionalmente, podemos acumular la ejecución de los métodos."
      ],
      "metadata": {
        "id": "zukvEjhG2Rcn"
      }
    },
    {
      "cell_type": "code",
      "source": [
        "id(texto)"
      ],
      "metadata": {
        "id": "JjkBRklr_T5n",
        "outputId": "6d9b473b-0eb1-41c9-a062-6870bfeeec96",
        "colab": {
          "base_uri": "https://localhost:8080/"
        }
      },
      "execution_count": null,
      "outputs": [
        {
          "output_type": "execute_result",
          "data": {
            "text/plain": [
              "140243406327360"
            ]
          },
          "metadata": {},
          "execution_count": 25
        }
      ]
    },
    {
      "cell_type": "markdown",
      "source": [
        "Para que la transformación se pueda ejecutar debemos atribuir la salida de las transformaciones a las variables"
      ],
      "metadata": {
        "id": "1KbwfVut2h6I"
      }
    },
    {
      "cell_type": "code",
      "source": [
        "nuevo_texto = texto.strip().replace('y','t').upper()\n",
        "print(nuevo_texto)\n",
        "print(id(texto), id(nuevo_texto))"
      ],
      "metadata": {
        "id": "ocPP-Jaj_SJI",
        "outputId": "ff291989-7416-4a69-c930-db38fff118f1",
        "colab": {
          "base_uri": "https://localhost:8080/"
        }
      },
      "execution_count": null,
      "outputs": [
        {
          "output_type": "stream",
          "name": "stdout",
          "text": [
            "MICAELA DE LOS SANTOS\n",
            "140243406327360 140243386364016\n"
          ]
        }
      ]
    },
    {
      "cell_type": "code",
      "source": [
        "texto = texto.strip().replace('y','t').upper()\n",
        "print(texto)\n",
        "print(id(texto), id(nuevo_texto))"
      ],
      "metadata": {
        "id": "m1RvLGZZ_SP3",
        "outputId": "6296f266-4abf-483c-ac12-a8e9c50cf476",
        "colab": {
          "base_uri": "https://localhost:8080/"
        }
      },
      "execution_count": null,
      "outputs": [
        {
          "output_type": "stream",
          "name": "stdout",
          "text": [
            "MICAELA DE LOS SANTOS\n",
            "140243386361904 140243386364016\n"
          ]
        }
      ]
    },
    {
      "cell_type": "markdown",
      "source": [
        "## Capturando datos\n",
        "\n",
        "En algunas aplicaciones necesitamos capturar los valores del usuario de nuestro proyecto. En python, logramos capturar los datos del usuario a través del comando [`input()`](https://docs.python.org/3/library/functions.html#input).\n",
        "\n",
        "Para ejecutar la captura debemos atribuir el resultado de esta función a una variable."
      ],
      "metadata": {
        "id": "0h9Fh5G9kHCa"
      }
    },
    {
      "cell_type": "code",
      "source": [
        "nombre = input(\"Escribe tu nombre: \")\n",
        "print(\"Hola\", nombre)"
      ],
      "metadata": {
        "id": "zbH_9i3q_PdY",
        "outputId": "f7903ec9-9e98-4572-9275-1123fde6dc75",
        "colab": {
          "base_uri": "https://localhost:8080/"
        }
      },
      "execution_count": null,
      "outputs": [
        {
          "output_type": "stream",
          "name": "stdout",
          "text": [
            "Escribe tu nombre: diego\n",
            "Hola diego\n"
          ]
        }
      ]
    },
    {
      "cell_type": "code",
      "source": [
        "type(nombre)"
      ],
      "metadata": {
        "id": "JZy1Q9Tl_PgL",
        "outputId": "524da325-4cbc-4f3d-c528-5a4944114c7e",
        "colab": {
          "base_uri": "https://localhost:8080/"
        }
      },
      "execution_count": null,
      "outputs": [
        {
          "output_type": "execute_result",
          "data": {
            "text/plain": [
              "str"
            ]
          },
          "metadata": {},
          "execution_count": 29
        }
      ]
    },
    {
      "cell_type": "markdown",
      "source": [
        "La salida de este comando siempre será una *string*. Esto quiere decir que aunque capturemos un valor de variable numérica, este será de tipo string.\n",
        "\n",
        "Entonces, será necesario **convertir el resultado cuando no se desea utilizar el valor como tipo string**."
      ],
      "metadata": {
        "id": "7z7hcLCk_aCY"
      }
    },
    {
      "cell_type": "markdown",
      "source": [
        "Existen funciones para la conversión de valores:\n",
        "\n",
        "- Enteros: [`int(dato_para_conversion)`](https://docs.python.org/3/library/functions.html#int)\n",
        "- Coma flotante: [`float(dato_para_conversion)`](https://docs.python.org/3/library/functions.html#float)\n",
        "- String: [`str(dato_para_conversion)`](https://docs.python.org/3/library/functions.html#func-str)\n",
        "- Booleano: [`bool(dato_para_conversion)`](https://docs.python.org/3/library/functions.html#bool)"
      ],
      "metadata": {
        "id": "TOlegATj1Jfp"
      }
    },
    {
      "cell_type": "code",
      "source": [
        "anio_admision = int(input('Digita el año de admisión: '))"
      ],
      "metadata": {
        "id": "M2ueeH6l_NMe",
        "outputId": "9ef3d21a-4e74-47a2-ba32-973872fa03f9",
        "colab": {
          "base_uri": "https://localhost:8080/"
        }
      },
      "execution_count": null,
      "outputs": [
        {
          "name": "stdout",
          "output_type": "stream",
          "text": [
            "Digita el año de admisión: 2024\n"
          ]
        }
      ]
    },
    {
      "cell_type": "code",
      "source": [
        "type(anio_admision)"
      ],
      "metadata": {
        "id": "xfWwuViK_NUn",
        "outputId": "fc55e722-a12b-48b9-e69b-eeb7c27a6fd8",
        "colab": {
          "base_uri": "https://localhost:8080/"
        }
      },
      "execution_count": null,
      "outputs": [
        {
          "output_type": "execute_result",
          "data": {
            "text/plain": [
              "int"
            ]
          },
          "metadata": {},
          "execution_count": 31
        }
      ]
    },
    {
      "cell_type": "code",
      "source": [
        "nota_admision = float(input('Digita la nota de admisión: '))"
      ],
      "metadata": {
        "id": "uFCHDyew_NZm",
        "outputId": "d30735b6-f796-4ded-b8c6-29af48489433",
        "colab": {
          "base_uri": "https://localhost:8080/"
        }
      },
      "execution_count": null,
      "outputs": [
        {
          "name": "stdout",
          "output_type": "stream",
          "text": [
            "Digita la nota de admisión: 9\n"
          ]
        }
      ]
    },
    {
      "cell_type": "code",
      "source": [
        "type(nota_admision)"
      ],
      "metadata": {
        "id": "er2NKFNhJKAy",
        "outputId": "61607f1d-fed4-44f6-d4a3-b4360c29db55",
        "colab": {
          "base_uri": "https://localhost:8080/"
        }
      },
      "execution_count": null,
      "outputs": [
        {
          "output_type": "execute_result",
          "data": {
            "text/plain": [
              "float"
            ]
          },
          "metadata": {},
          "execution_count": 33
        }
      ]
    },
    {
      "cell_type": "markdown",
      "source": [
        "Trataremos de representar mejor ahora el resultado de la transformación que obtuvimos. Nosotros podemos formatear y presentar nuestro resultado mezclando strings con valores no textuales.\n",
        "\n",
        "Para ello utilizamos la estructura de formatación `f` con strings."
      ],
      "metadata": {
        "id": "yNI2-XTbB3aS"
      }
    },
    {
      "cell_type": "code",
      "source": [
        "print(f'El año de admisión fue: {anio_admision} \\nLa nota de admisión fue: {nota_admision}')"
      ],
      "metadata": {
        "id": "keJjA5N9_K5i",
        "outputId": "c899b013-7856-4a5d-dfd2-bed9c0395065",
        "colab": {
          "base_uri": "https://localhost:8080/"
        }
      },
      "execution_count": null,
      "outputs": [
        {
          "output_type": "stream",
          "name": "stdout",
          "text": [
            "El año de admisión fue: 2024 \n",
            "La nota de admisión fue: 9.0\n"
          ]
        }
      ]
    },
    {
      "cell_type": "code",
      "source": [
        "nombre_alumno = 'Penélope Camacho'\n",
        "edad_alumno = 11\n",
        "media_alumno = 9.95\n",
        "print('Nombre del alumno es %s, tiene %d años y su media es %f.' %(nombre_alumno, edad_alumno, media_alumno))"
      ],
      "metadata": {
        "id": "rcHYzYPbLbMY",
        "outputId": "d89a376e-5400-4c2d-92ba-b75cf9cd7202",
        "colab": {
          "base_uri": "https://localhost:8080/"
        }
      },
      "execution_count": null,
      "outputs": [
        {
          "output_type": "stream",
          "name": "stdout",
          "text": [
            "Nombre del alumno es Penélope Camacho, tiene 11 años y su media es 9.950000.\n"
          ]
        }
      ]
    },
    {
      "cell_type": "code",
      "source": [
        "print('Nombre del alumno es %s, tiene %d años y su media es %.2f.' %(nombre_alumno, edad_alumno, media_alumno))\n"
      ],
      "metadata": {
        "id": "ISseD4wZLjhT",
        "outputId": "f652642e-2f33-472b-859c-ea620280bc24",
        "colab": {
          "base_uri": "https://localhost:8080/"
        }
      },
      "execution_count": null,
      "outputs": [
        {
          "output_type": "stream",
          "name": "stdout",
          "text": [
            "Nombre del alumno es Penélope Camacho, tiene 11 años y su media es 9.95.\n"
          ]
        }
      ]
    },
    {
      "cell_type": "code",
      "source": [
        "print(\"Estudiar es un esfuerzo constante,\\nEs como cultivar una planta,\\nNecesitamos dedicación y paciencia,\\nPara ver madurar el fruto.\")\n"
      ],
      "metadata": {
        "id": "wb3VtjYlL80w",
        "outputId": "589303b0-d39c-46d6-bb8f-55097ca4ab5e",
        "colab": {
          "base_uri": "https://localhost:8080/"
        }
      },
      "execution_count": null,
      "outputs": [
        {
          "output_type": "stream",
          "name": "stdout",
          "text": [
            "Estudiar es un esfuerzo constante,\n",
            "Es como cultivar una planta,\n",
            "Necesitamos dedicación y paciencia,\n",
            "Para ver madurar el fruto.\n"
          ]
        }
      ]
    },
    {
      "cell_type": "code",
      "source": [
        "print('Cantidad\\tCalidad\\n5 muestras\\tAlta\\n3 muestras\\tBaja')\n"
      ],
      "metadata": {
        "id": "ZrcnJqGbL_Ar",
        "outputId": "7fb0d3f9-abcb-405c-b249-a427682a9401",
        "colab": {
          "base_uri": "https://localhost:8080/"
        }
      },
      "execution_count": null,
      "outputs": [
        {
          "output_type": "stream",
          "name": "stdout",
          "text": [
            "Cantidad\tCalidad\n",
            "5 muestras\tAlta\n",
            "3 muestras\tBaja\n"
          ]
        }
      ]
    },
    {
      "cell_type": "code",
      "source": [
        "print(\"Ruta del archivo: C:\\\\archivos\\\\documento.csv\")\n"
      ],
      "metadata": {
        "id": "9WDtzoB7L_6n",
        "outputId": "01dd398a-ba21-418f-ea0a-a0f1ab31cd34",
        "colab": {
          "base_uri": "https://localhost:8080/"
        }
      },
      "execution_count": null,
      "outputs": [
        {
          "output_type": "stream",
          "name": "stdout",
          "text": [
            "Ruta del archivo: C:\\archivos\\documento.csv\n"
          ]
        }
      ]
    },
    {
      "cell_type": "code",
      "source": [
        "print(\"Una vez oí: \\\"Los frutos del conocimiento son los más dulces y duraderos de todos.\\\"\")\n"
      ],
      "metadata": {
        "id": "tZRhmnYaMA-i",
        "outputId": "270c78d6-2f78-4411-e000-afeef5691240",
        "colab": {
          "base_uri": "https://localhost:8080/"
        }
      },
      "execution_count": null,
      "outputs": [
        {
          "output_type": "stream",
          "name": "stdout",
          "text": [
            "Una vez oí: \"Los frutos del conocimiento son los más dulces y duraderos de todos.\"\n"
          ]
        }
      ]
    },
    {
      "cell_type": "code",
      "source": [
        "print('Mi profesora una vez dijo: \\'Estudiar es la clave del éxito.\\'')\n"
      ],
      "metadata": {
        "id": "oHLiMF_9MBEG",
        "outputId": "0ea82859-5e22-414b-918c-1b87c76b9a21",
        "colab": {
          "base_uri": "https://localhost:8080/"
        }
      },
      "execution_count": null,
      "outputs": [
        {
          "output_type": "stream",
          "name": "stdout",
          "text": [
            "Mi profesora una vez dijo: 'Estudiar es la clave del éxito.'\n"
          ]
        }
      ]
    },
    {
      "cell_type": "markdown",
      "source": [
        "# Estructuras condicionales"
      ],
      "metadata": {
        "id": "NwRaiHHHhhyl"
      }
    },
    {
      "cell_type": "code",
      "source": [
        "# Nota de aprobación entre 7 y 10 == nota de aprobación >= 7\n",
        "# Nota de reprobación es menor a 7 == nota de reprobación < 7\n",
        "\n",
        "\"\"\"\n",
        "Si la nota  es mayor o igual a 7 entonces el estudiante se encuentra\n",
        "    Aprobado\n",
        "Si la nota es menor a 7 entonces el estudiante se encuentra\n",
        "    Reprobado\n",
        "\"\"\""
      ],
      "metadata": {
        "id": "pa4gLncu-mvU",
        "outputId": "4ac6589a-184f-40e8-b895-30ad8f9c8dee",
        "colab": {
          "base_uri": "https://localhost:8080/",
          "height": 70
        }
      },
      "execution_count": null,
      "outputs": [
        {
          "output_type": "execute_result",
          "data": {
            "text/plain": [
              "'\\nSi la nota  es mayor o igual a 7 entonces el estudiante se encuentra\\n    Aprobado\\nSi la nota es menor a 7 entonces el estudiante se encuentra\\n    Reprobado\\n'"
            ],
            "application/vnd.google.colaboratory.intrinsic+json": {
              "type": "string"
            }
          },
          "metadata": {},
          "execution_count": 42
        }
      ]
    },
    {
      "cell_type": "markdown",
      "source": [
        "## `IF` y `ELSE`\n",
        "\n",
        "Los comandos `if` y `else` son dos estructuras condicionales. El comando `if` ejecutará el bloque de comandos en caso de que la condición citada sea  **verdadera**. El comando `else` ejecutará el bloque de comandos en el caso de que la condicional de `if` sea **falsa**."
      ],
      "metadata": {
        "id": "qXZqg9aYEhAh"
      }
    },
    {
      "cell_type": "markdown",
      "source": [
        "El comando `if` es una palabra clave en Python que significa \"si\". Este se emplea para conformar la estructura condicional, que te permite verificar si una determinada condición es verdadera o falsa e, inmediatamente después, ejecute un bloque de código específico dependiendo del resultado de la verificación. La sintaxis para usar el comando `if` es:\n",
        "\n",
        "\n",
        "\n",
        "```\n",
        "if condicion:\n",
        "    # Realiza algo\n",
        "```\n",
        "\n"
      ],
      "metadata": {
        "id": "EIhlqHXd2Gil"
      }
    },
    {
      "cell_type": "code",
      "source": [
        "if 2 < 7:\n",
        "  print('La condición es verdadera.')\n"
      ],
      "metadata": {
        "id": "S2S6XAFz-czM",
        "outputId": "c8625076-cc73-4a53-e41a-0c3f3dbe801e",
        "colab": {
          "base_uri": "https://localhost:8080/"
        }
      },
      "execution_count": null,
      "outputs": [
        {
          "output_type": "stream",
          "name": "stdout",
          "text": [
            "La condición es verdadera.\n"
          ]
        }
      ]
    },
    {
      "cell_type": "code",
      "source": [
        "if 2 > 7:\n",
        "  print('La condición es verdadera.')\n",
        "print('Fin de la consulta')"
      ],
      "metadata": {
        "id": "YHkwMMyY-c1r",
        "outputId": "dba97e07-f9ea-4592-cda8-7ab4c50e0ac1",
        "colab": {
          "base_uri": "https://localhost:8080/"
        }
      },
      "execution_count": null,
      "outputs": [
        {
          "output_type": "stream",
          "name": "stdout",
          "text": [
            "Fin de la consulta\n"
          ]
        }
      ]
    },
    {
      "cell_type": "markdown",
      "source": [
        "Ya el comando `else` en Python se usa en junción con la palabra clave `if` para formar una estructura condicional. la sintaxis para usar el `else` es:\n",
        "\n",
        "```\n",
        "if condicion:\n",
        "  # codigo en caso de que sea verdad\n",
        "else:\n",
        "  # codigo en caso de que sea falso\n",
        "```\n",
        "\n",
        "el comando `else` se ejecuta cuando la condición verificada por el `if` es evaluada como `False`."
      ],
      "metadata": {
        "id": "27RW2v_sIKct"
      }
    },
    {
      "cell_type": "code",
      "source": [
        "if 2 > 7:\n",
        "  print('La condición es verdadera.')\n",
        "else:\n",
        "  print('La condición es falsa.')\n",
        "print('Fin de la consulta.')"
      ],
      "metadata": {
        "id": "ZTfNJd_f-aOq",
        "outputId": "b2fc770a-fcfa-4fad-adac-83a78b41fb9c",
        "colab": {
          "base_uri": "https://localhost:8080/"
        }
      },
      "execution_count": null,
      "outputs": [
        {
          "output_type": "stream",
          "name": "stdout",
          "text": [
            "La condición es falsa.\n",
            "Fin de la consulta.\n"
          ]
        }
      ]
    },
    {
      "cell_type": "code",
      "source": [],
      "metadata": {
        "id": "LPOb5MkV-btq"
      },
      "execution_count": null,
      "outputs": []
    },
    {
      "cell_type": "markdown",
      "source": [
        "---\n",
        "**Situación:**\n",
        "\n",
        "Recibiremos el promedio de la nota de los estudiantes y necesitamos de un algoritmo que ejecute el análisis y determine si el estudiante fue **Aprobado** o **Reprobado**, mostrando un mensaje del resultado. Para ser aprobado, el promedio necesita ser igual o superior a 7.0."
      ],
      "metadata": {
        "id": "BqORg85XX-Nl"
      }
    },
    {
      "cell_type": "code",
      "source": [
        "nota = float(input('Digita el promedio de la nota: '))\n",
        "\n",
        "if nota >= 7:\n",
        "  print('El estudiante fue aprobado.')\n",
        "if 7 > nota >= 5:\n",
        "  print('Recuperación.')\n",
        "else:\n",
        "  print('El estudiante fue reprobado.')"
      ],
      "metadata": {
        "id": "UukCN4AQ-YYW",
        "colab": {
          "base_uri": "https://localhost:8080/"
        },
        "outputId": "d0184918-040a-4cf9-9ad2-ac20f7085287"
      },
      "execution_count": null,
      "outputs": [
        {
          "output_type": "stream",
          "name": "stdout",
          "text": [
            "Digita el promedio de la nota: 7\n",
            "El estudiante fue aprobado.\n",
            "El estudiante fue reprobado.\n"
          ]
        }
      ]
    },
    {
      "cell_type": "code",
      "source": [],
      "metadata": {
        "id": "X0o8FW1H-YkA"
      },
      "execution_count": null,
      "outputs": []
    },
    {
      "cell_type": "markdown",
      "source": [
        "Ahora, nuestra institución educativa estableció que las personas que tengan el promedio entre 5.0 y 7.0 pueden participar del curso de **Recuperación** durante las vacaciones para lograr aprobar.\n",
        "\n",
        "Entonces podemos apoyarnos en un conjunto de `if`s para poder estructurar esta nueva condición."
      ],
      "metadata": {
        "id": "bD9O17HB6LUo"
      }
    },
    {
      "cell_type": "code",
      "source": [],
      "metadata": {
        "id": "G9cJ5O9--W52"
      },
      "execution_count": null,
      "outputs": []
    },
    {
      "cell_type": "code",
      "source": [],
      "metadata": {
        "id": "iU-pjoJt-W89"
      },
      "execution_count": null,
      "outputs": []
    },
    {
      "cell_type": "markdown",
      "source": [
        "Observa que en casos con 3 situaciones como este necesitamos definir bien nuestras condiciones. Pues, si realizamos una condición con `else` al final, este irá a considerar solamente la condición `if` inmediatamente anterior para generar la salida en caso de que el resultado de su operación lógica sea **falso** dando como resultado, dos o más ejecuciones.\n",
        "\n",
        "Por ejemplo:"
      ],
      "metadata": {
        "id": "D5e2mByjvycO"
      }
    },
    {
      "cell_type": "code",
      "source": [],
      "metadata": {
        "id": "C21JmOuK-VU8"
      },
      "execution_count": null,
      "outputs": []
    },
    {
      "cell_type": "code",
      "source": [],
      "metadata": {
        "id": "bHiVgnPs-Vlv"
      },
      "execution_count": null,
      "outputs": []
    },
    {
      "cell_type": "markdown",
      "source": [
        "## `ELIF`\n",
        "\n",
        "El comando `elif` es una palabra clave en Python que significa \"si no, si\" y lo podemos considerar una *contracción* entre `else` e `if`. Se utiliza en conjunto con la palabra clave `if` para formar una estructura condicional en cadena."
      ],
      "metadata": {
        "id": "04T5g-7h4zWx"
      }
    },
    {
      "cell_type": "markdown",
      "source": [
        "la sintaxis para utilizar el comando `elif` es:\n",
        "\n",
        "```\n",
        "if condicion1:\n",
        "    # Realiza algo\n",
        "elif condicion2:\n",
        "    # Realiza otra cosa\n",
        "elif condicion3:\n",
        "    # Realiza otra cosa\n",
        "else:\n",
        "    # Realiza algo diferente\n",
        "```\n",
        "\n",
        "El comando `elif` permite que puedas verificar varias condiciones en cadena, economizando espacio en tu código. Si la primera condición se evalúa como `False`, el interpretador de Python evaluará la próxima condición con el `elif`. Ello continuará hasta que una condición sea evaluada como `True` o hasta que el `else` sea alcazado. Si ninguna de las condiciones es evaluada como `True`, la ejecución del código del comando `else` será iniciada."
      ],
      "metadata": {
        "id": "rNBHr5mm1Lm6"
      }
    },
    {
      "cell_type": "markdown",
      "source": [
        "Vamos a emplear el mismo caso anterior:"
      ],
      "metadata": {
        "id": "MVoykFbB4bd4"
      }
    },
    {
      "cell_type": "code",
      "source": [
        "nota = float(input('Digita el promedio de la nota: '))\n",
        "\n",
        "if nota >= 7:\n",
        "  print('El estudiante fue aprobado.')\n",
        "elif 7 > nota >= 5:\n",
        "  print('Recuperación.')\n",
        "else:\n",
        "  print('El estudiante fue reprobado.')"
      ],
      "metadata": {
        "id": "QFamB78s-TW_",
        "colab": {
          "base_uri": "https://localhost:8080/"
        },
        "outputId": "b073343b-ce12-463c-c866-c243d5db8c2e"
      },
      "execution_count": null,
      "outputs": [
        {
          "output_type": "stream",
          "name": "stdout",
          "text": [
            "Digita el promedio de la nota: 7\n",
            "El estudiante fue aprobado.\n"
          ]
        }
      ]
    },
    {
      "cell_type": "code",
      "source": [],
      "metadata": {
        "id": "nuScbnHF-TfK"
      },
      "execution_count": null,
      "outputs": []
    },
    {
      "cell_type": "markdown",
      "source": [
        "## Operadores\n",
        "\n",
        "Durante la construcción de comandos a veces necesitamos de una elaboración mayor de la expresión condicional, necesitando que algunos operadores lógicos se encuentren integrados."
      ],
      "metadata": {
        "id": "Tf1wSOem6iwZ"
      }
    },
    {
      "cell_type": "markdown",
      "source": [
        "### `AND`, `OR`, `NOT`\n",
        "\n",
        "Los operadores lógicos `and`, `or` y `not` son usados para combinar expresiones lógicas en Python. Ellos son usados frecuentemente en conjunto con el comando `if` para crear estructuras condicionales más complejas.\n"
      ],
      "metadata": {
        "id": "GFIZnRWXGPWO"
      }
    },
    {
      "cell_type": "markdown",
      "source": [
        "- `AND` es usado para verificar si dos condiciones son verdaderas. La expresión lógica¹ `x and y` se evalúa como `True` tan solo si **ambas condiciones `x` y `y` son verdaderas**, y como `False` en caso contrario.\n",
        "\n",
        "- `OR` es usado para verificar si al menos una de las condiciones es verdadera. La expresión lógica `x or y` se evalúa como `True` **si al menos una de las condiciones `x` o `y` es verdadera**, y como `False` si ambas condiciones son falsas.\n",
        "\n",
        "- `NOT` es usado para **negar una condición**. La expresión lógica `not x` es evaluada como `True` si la condición x es falsa, y como `False` si la condición x es verdadera.\n",
        "\n",
        "¹ Una expresión lógica es una declaración que puede ser evaluada como verdadera o falsa. Ella se compone por operandos lógicos² y por operadores lógicos³, que son usados ​​para combinar varias expresiones lógicas en una única expresión.\n",
        "\n",
        "² Los operandos lógicos son los elementos que son comparados o evaluados en una expresión lógica. Ellos son generalmente valores verdaderos o falsos, pero también pueden ser expresiones lógicas más complejas. En Python, los operandos lógicos son los valores `True` y `False`.\n",
        "\n",
        "³ Los operadores lógicos son ls símbolos o palabras clave que son usados ​​para combinar varias expresiones lógicas en una única expresión. En Python, los operadores lógicos son `and`, `or` y `not`, bien como las palabras clave `if`, `elif` e `else`."
      ],
      "metadata": {
        "id": "Z_dgAoHXJbzB"
      }
    },
    {
      "cell_type": "markdown",
      "source": [
        "> Operadores lógicos más comunes\n",
        "\n",
        "|a|b|AND|OR|NOT|\n",
        "|-|-|-|-|-|\n",
        "|0|0|0|0|1\n",
        "|0|1|0|1|-\n",
        "|1|0|0|1|-\n",
        "|1|1|1|1|0\n"
      ],
      "metadata": {
        "id": "2E5aUogf-49u"
      }
    },
    {
      "cell_type": "code",
      "source": [
        "v = True\n",
        "f = False"
      ],
      "metadata": {
        "id": "DFKmpvmS-Pa6"
      },
      "execution_count": null,
      "outputs": []
    },
    {
      "cell_type": "code",
      "source": [
        "if f and f:\n",
        "  print(\"La condición es verdadera.\")\n",
        "else:\n",
        "  print(\"La condición es falsa.\")"
      ],
      "metadata": {
        "id": "W5BIrpOD-PeI",
        "colab": {
          "base_uri": "https://localhost:8080/"
        },
        "outputId": "499ce313-0e3f-48f9-fb4d-9ab83cb017f2"
      },
      "execution_count": null,
      "outputs": [
        {
          "output_type": "stream",
          "name": "stdout",
          "text": [
            "La condición es falsa.\n"
          ]
        }
      ]
    },
    {
      "cell_type": "code",
      "source": [
        "if v or f:\n",
        "  print(\"La condición es verdadera.\")\n",
        "else:\n",
        "  print(\"La condición es falsa.\")"
      ],
      "metadata": {
        "id": "fpDhYxq4-PiM",
        "colab": {
          "base_uri": "https://localhost:8080/"
        },
        "outputId": "43672446-8902-4929-d998-21d167695cf7"
      },
      "execution_count": null,
      "outputs": [
        {
          "output_type": "stream",
          "name": "stdout",
          "text": [
            "La condición es verdadera.\n"
          ]
        }
      ]
    },
    {
      "cell_type": "code",
      "source": [
        "if not f:\n",
        "  print(\"La condición es verdadera.\")\n",
        "else:\n",
        "  print(\"La condición es falsa.\")"
      ],
      "metadata": {
        "colab": {
          "base_uri": "https://localhost:8080/"
        },
        "id": "aZ3F3Hetgvxn",
        "outputId": "e3e9802e-1fd4-4fb1-a303-4b3102182609"
      },
      "execution_count": null,
      "outputs": [
        {
          "output_type": "stream",
          "name": "stdout",
          "text": [
            "La condición es verdadera.\n"
          ]
        }
      ]
    },
    {
      "cell_type": "markdown",
      "source": [
        "### `IN`\n",
        "\n",
        "Es usado para verificar si un elemento está presente en una lista, tupla u otra colección de conjunto. La expresión `x in y` se evalúa como `True` si el elemento `x` esta presente na variávelen la variable de conjunto `y`, y como `False` en caso contrario."
      ],
      "metadata": {
        "id": "w7EXG1dhWtja"
      }
    },
    {
      "cell_type": "markdown",
      "source": [
        "Podemos verificarlo con variables de texto.\n",
        "\n",
        "---\n",
        "\n",
        "**Situación:**\n",
        "\n",
        "En la escuela nos entregaron una lista con nombres de estudiantes que fueron aprobados según el promedio del semestre, pero es necesario verificar si algunos nombres están en esa lista para confirmar que los datos estén correctos.\n",
        "\n",
        "La lista distribuida puede ser observada a continuación:\n",
        "\n",
        "```\n",
        "lista = 'Juan Pérez, María González, Pedro Rodríguez, Ana López, Carlos Martínez,\n",
        "    Laura Sánchez, José García, Elena Fernández, Luis Morales, Carmen Torres,\n",
        "    David Ruiz, Isabel Ramírez, Javier Díaz, Sara Herrera, Miguel Castro,\n",
        "    Patricia Ortega, Francisco Vargas, Marta Jiménez, Manuel Medina, Rosa Molina,\n",
        "    Alejandro Silva, Silvia Ruiz, Andrés Torres, Natalia Soto, Diego Guerrero,\n",
        "    Paula Ríos, Ricardo Navarro, Alicia Cordero, Carlos Vidal, Lorena Gómez'\n",
        "```\n",
        "\n",
        "Los nombres que necesitas verificar son los siguientes:\n",
        "\n",
        "```\n",
        "nombre_1 = 'Miguel Castro'\n",
        "nombre_2 = 'Marcelo Noguera'\n",
        "```"
      ],
      "metadata": {
        "id": "enJNp6JenQbq"
      }
    },
    {
      "cell_type": "code",
      "source": [
        "lista = 'Juan Pérez, María González, Pedro Rodríguez, Ana López, Carlos Martínez,\\\n",
        "    Laura Sánchez, José García, Elena Fernández, Luis Morales, Carmen Torres,\\\n",
        "    David Ruiz, Isabel Ramírez, Javier Díaz, Sara Herrera, Miguel Castro,\\\n",
        "    Patricia Ortega, Francisco Vargas, Marta Jiménez, Manuel Medina, Rosa Molina,\\\n",
        "    Alejandro Silva, Silvia Ruiz, Andrés Torres, Natalia Soto, Diego Guerrero,\\\n",
        "    Paula Ríos, Ricardo Navarro, Alicia Cordero, Carlos Vidal, Lorena Gómez'"
      ],
      "metadata": {
        "id": "gPPN9BCT-Mki"
      },
      "execution_count": null,
      "outputs": []
    },
    {
      "cell_type": "code",
      "source": [
        "nombre_1 = 'Miguel Castro'\n",
        "nombre_2 = 'Marcelo Noguera'"
      ],
      "metadata": {
        "id": "GINbG3Fa-Mnb"
      },
      "execution_count": null,
      "outputs": []
    },
    {
      "cell_type": "code",
      "source": [
        "if nombre_1 in lista:\n",
        "  print(f'El nombre {nombre_1} está en la lista de aprobados.')\n",
        "else:\n",
        "  print(f'El nombre {nombre_1} no está en la lista de aprobados.')"
      ],
      "metadata": {
        "id": "hk-RhNRT-Mp7",
        "colab": {
          "base_uri": "https://localhost:8080/"
        },
        "outputId": "aedb8df8-c737-4704-c4e4-8cad9a4595a7"
      },
      "execution_count": null,
      "outputs": [
        {
          "output_type": "stream",
          "name": "stdout",
          "text": [
            "El nombre Miguel Castro está en la lista de aprobados.\n"
          ]
        }
      ]
    },
    {
      "cell_type": "code",
      "source": [
        "if nombre_2 in lista:\n",
        "  print(f'El nombre {nombre_1} está en la lista de aprobados.')\n",
        "else:\n",
        "  print(f'El nombre {nombre_1} no está en la lista de aprobados.')"
      ],
      "metadata": {
        "colab": {
          "base_uri": "https://localhost:8080/"
        },
        "id": "IwbXJq1QiSpX",
        "outputId": "51eabe02-a8b8-48c4-d62e-9a094b181ff5"
      },
      "execution_count": null,
      "outputs": [
        {
          "output_type": "stream",
          "name": "stdout",
          "text": [
            "El nombre Miguel Castro no está en la lista de aprobados.\n"
          ]
        }
      ]
    },
    {
      "cell_type": "code",
      "source": [
        "num_1 = int(input(\"Escribe un número entero: \"))\n",
        "num_2 = int(input(\"Escribe otro número entero: \"))\n",
        "\n",
        "if num_1 > num_2:\n",
        "  print(f\"El número {num_1} es mayor que el número {num_2}.\")\n",
        "elif num_1 < num_2:\n",
        "  print(f\"El número {num_1} es menor que el número {num_2}.\")\n",
        "else:\n",
        "  print(f\"Los números {num_1} y {num_2} son iguales.\")"
      ],
      "metadata": {
        "colab": {
          "base_uri": "https://localhost:8080/"
        },
        "id": "6zKguLTN465E",
        "outputId": "4a9da885-1dbe-445f-98d9-7649a38565b9"
      },
      "execution_count": null,
      "outputs": [
        {
          "output_type": "stream",
          "name": "stdout",
          "text": [
            "Escribe un número entero: 2\n",
            "Escribe otro número entero: 2\n",
            "Los números 2 y 2 son iguales.\n"
          ]
        }
      ]
    },
    {
      "cell_type": "code",
      "source": [
        "porcentaje_crecim = float(input(\"Escribe el porcentaje de crecimiento: \"))\n",
        "\n",
        "if porcentaje_crecim > 0:\n",
        "  print(\"El crecimiento es positivo.\")\n",
        "elif porcentaje_crecim < 0:\n",
        "  print(\"El crecimiento es negativo.\")\n",
        "else:\n",
        "  print(\"El crecimiento es cero.\")"
      ],
      "metadata": {
        "colab": {
          "base_uri": "https://localhost:8080/"
        },
        "id": "OJmx9pJg56jo",
        "outputId": "f3b1d89c-cfc2-4fdd-d546-a5497dfb8256"
      },
      "execution_count": null,
      "outputs": [
        {
          "output_type": "stream",
          "name": "stdout",
          "text": [
            "Escribe el porcentaje de crecimiento: -1.2\n",
            "El crecimiento es negativo.\n"
          ]
        }
      ]
    },
    {
      "cell_type": "code",
      "source": [
        "vocales = 'aeiou'\n",
        "letra = input(\"Escribe una letra: \")\n",
        "\n",
        "if letra in vocales:\n",
        "  print(f\"La letra {letra} es una vocal.\")\n",
        "else:\n",
        "  print(f\"La letra {letra} es una consonante.\")"
      ],
      "metadata": {
        "colab": {
          "base_uri": "https://localhost:8080/"
        },
        "id": "hyIfXoKL6Jv6",
        "outputId": "b9c3e58b-180e-455c-8604-9870d117c754"
      },
      "execution_count": null,
      "outputs": [
        {
          "output_type": "stream",
          "name": "stdout",
          "text": [
            "Escribe una letra: e\n",
            "La letra e es una vocal.\n"
          ]
        }
      ]
    },
    {
      "cell_type": "code",
      "source": [
        "precio_a1 = float(input(\"Escribe el precio promedio del año 1: \"))\n",
        "precio_a2 = float(input(\"Escribe el precio promedio del año 2: \"))\n",
        "precio_a3 = float(input(\"Escribe el precio promedio del año 3: \"))\n",
        "\n",
        "mayor = precio_a1\n",
        "\n",
        "if precio_a2 > mayor:\n",
        "  mayor = precio_a2\n",
        "\n",
        "if precio_a3 > mayor:\n",
        "  mayor = precio_a3\n",
        "\n",
        "menor = precio_a1\n",
        "\n",
        "if precio_a2 < menor:\n",
        "  menor = precio_a2\n",
        "\n",
        "if precio_a3 < menor:\n",
        "  menor = precio_a3\n",
        "\n",
        "print(f\"El mayor precio promedio es: {mayor}\")\n",
        "print(f\"El menor precio promedio es: {menor}\")"
      ],
      "metadata": {
        "colab": {
          "base_uri": "https://localhost:8080/"
        },
        "id": "r1Cmqvnj6g5u",
        "outputId": "a149dd37-4689-4d87-bd0f-78baa620c4f2"
      },
      "execution_count": null,
      "outputs": [
        {
          "output_type": "stream",
          "name": "stdout",
          "text": [
            "Escribe el precio promedio del año 1: 300000\n",
            "Escribe el precio promedio del año 2: 500000\n",
            "Escribe el precio promedio del año 3: 100000\n",
            "El mayor precio promedio es: 500000.0\n",
            "El menor precio promedio es: 100000.0\n"
          ]
        }
      ]
    },
    {
      "cell_type": "code",
      "source": [
        "# Escribe un programa que pregunte sobre el precio de tres productos e indique cuál es el producto más barato para comprar.\n",
        "\n",
        "precio_a1 = float(input(\"Escribe el precio del producto 1: \"))\n",
        "precio_a2 = float(input(\"Escribe el precio del producto 2: \"))\n",
        "precio_a3 = float(input(\"Escribe el precio del producto 3: \"))\n",
        "\n",
        "if precio_a1 < precio_a2 and precio_a1 < precio_a3:\n",
        "  print(\"El producto 1 es el más barato.\")\n",
        "elif precio_a2 < precio_a1 and precio_a2 < precio_a3:\n",
        "  print(\"El producto 2 es el más barato.\")\n",
        "else:\n",
        "  print(\"El producto 3 es el más barato.\")"
      ],
      "metadata": {
        "colab": {
          "base_uri": "https://localhost:8080/"
        },
        "id": "uemaUBGa6b5B",
        "outputId": "54018ec0-b170-4023-fc87-697bb8b7cded"
      },
      "execution_count": null,
      "outputs": [
        {
          "output_type": "stream",
          "name": "stdout",
          "text": [
            "Escribe el precio del producto 1: 10\n",
            "Escribe el precio del producto 2: 1.4\n",
            "Escribe el precio del producto 3: 3\n",
            "El producto 2 es el más barato.\n"
          ]
        }
      ]
    },
    {
      "cell_type": "code",
      "source": [
        "# Escribe un programa que lea tres números y los muestre en orden descendente.\n",
        "\n",
        "num1 = int(input(\"Escribe el primer número: \"))\n",
        "num2 = int(input(\"Escribe el segundo número: \"))\n",
        "num3 = int(input(\"Escribe el tercer número: \"))\n",
        "\n",
        "# Comparación entre los 3 números\n",
        "if (num1 >= num2) and (num1 >= num3):\n",
        "    print(num1)\n",
        "    if num2 >= num3:\n",
        "        print(num2)\n",
        "        print(num3)\n",
        "    else:\n",
        "        print(num3)\n",
        "        print(num2)\n",
        "elif (num2 >= num1) and (num2 >= num3):\n",
        "    print(num2)\n",
        "    if num1 >= num3:\n",
        "        print(num1)\n",
        "        print(num3)\n",
        "    else:\n",
        "        print(num3)\n",
        "        print(num1)\n",
        "else:\n",
        "    print(num3)\n",
        "    if num1 >= num2:\n",
        "        print(num1)\n",
        "        print(num2)\n",
        "    else:\n",
        "        print(num2)\n",
        "        print(num1)"
      ],
      "metadata": {
        "colab": {
          "base_uri": "https://localhost:8080/"
        },
        "id": "0R8OOJDF-qWA",
        "outputId": "2feb6719-070c-4192-af6f-c6a74dccb61c"
      },
      "execution_count": null,
      "outputs": [
        {
          "output_type": "stream",
          "name": "stdout",
          "text": [
            "Escribe el primer número: 5\n",
            "Escribe el segundo número: 2\n",
            "Escribe el tercer número: 9\n",
            "9\n",
            "5\n",
            "2\n"
          ]
        }
      ]
    },
    {
      "cell_type": "code",
      "source": [
        "# Escribe un programa que pregunte en qué turno estudia la persona usuaria (\"mañana\", \"tarde\" o \"noche\") y muestre el mensaje \"¡Buenos Días!\", \"¡Buenas Tardes!\", \"¡Buenas Noches!\" o \"Valor Inválido!\", según el caso.\n",
        "\n",
        "turno = input(\"¿En qué turno estudias? (mañana, tarde o noche): \")\n",
        "\n",
        "if turno == \"mañana\":\n",
        "  print(\"¡Buenos Días!\")\n",
        "elif turno == \"tarde\":\n",
        "  print(\"¡Buenas Tardes!\")\n",
        "elif turno == \"noche\":\n",
        "  print(\"¡Buenas Noches!\")\n",
        "else:\n",
        "  print(\"Valor Inválido!\")"
      ],
      "metadata": {
        "colab": {
          "base_uri": "https://localhost:8080/"
        },
        "id": "VJbXdpP1-qrN",
        "outputId": "5ba948ac-3507-4237-dab8-1993b4abf218"
      },
      "execution_count": null,
      "outputs": [
        {
          "output_type": "stream",
          "name": "stdout",
          "text": [
            "¿En qué turno estudias? (mañana, tarde o noche): mañanas\n",
            "Valor Inválido!\n"
          ]
        }
      ]
    },
    {
      "cell_type": "code",
      "source": [
        "# Escribe un programa que solicite un número entero a la persona usuaria y determine si es par o impar. Pista: Puedes usar el operador módulo (%)\n",
        "\n",
        "numero_int = int(input(\"Escribe un número entero: \"))\n",
        "\n",
        "if numero_int % 2 == 0:\n",
        "  print(f\"El número {numero_int} es par.\")\n",
        "else:\n",
        "  print(f\"El número {numero_int} es impar.\")"
      ],
      "metadata": {
        "colab": {
          "base_uri": "https://localhost:8080/"
        },
        "id": "QEeEmqEb-qx9",
        "outputId": "3cf3d454-b134-40fb-8d21-685cc112d101"
      },
      "execution_count": null,
      "outputs": [
        {
          "output_type": "stream",
          "name": "stdout",
          "text": [
            "Escribe un número entero: 6\n",
            "El número 6 es par.\n"
          ]
        }
      ]
    },
    {
      "cell_type": "code",
      "source": [
        "# Escribe un programa que pida un número a la persona usuaria y le informe si es entero o decimal.\n",
        "\n",
        "numero = float(input(\"Escribe un número: \"))\n",
        "\n",
        "if numero.is_integer():\n",
        "  print(f\"El número {numero} es entero.\")\n",
        "else:\n",
        "  print(f\"El número {numero} es decimal.\")"
      ],
      "metadata": {
        "colab": {
          "base_uri": "https://localhost:8080/"
        },
        "id": "zMEUrWvKCADT",
        "outputId": "2d524262-156d-4484-b83e-ae2ba04ab4cc"
      },
      "execution_count": null,
      "outputs": [
        {
          "output_type": "stream",
          "name": "stdout",
          "text": [
            "Escribe un número: 7.7\n",
            "El número 7.7 es decimal.\n"
          ]
        }
      ]
    },
    {
      "cell_type": "code",
      "source": [
        "# Un programa debe ser escrito para leer dos números y luego preguntar a la persona usuaria qué operación desea realizar. El resultado de la operación debe incluir información sobre el número, si es par o impar, positivo o negativo, e entero o decimal.\n",
        "\n",
        "num1 = float(input(\"Escribe el primer número: \"))\n",
        "num2 = float(input(\"Escribe el segundo número: \"))\n",
        "\n",
        "operacion = input(\"¿Qué operación deseas realizar? (suma, resta, multiplicacion, division): \")\n",
        "\n",
        "if operacion == \"suma\":\n",
        "  resultado = num1 + num2\n",
        "elif operacion == \"resta\":\n",
        "  resultado = num1 - num2\n",
        "elif operacion == \"multiplicacion\":\n",
        "  resultado = num1 * num2\n",
        "elif operacion == \"division\":\n",
        "  resultado = num1 / num2\n",
        "else:\n",
        "  print(\"Operación inválida.\")\n",
        "  resultado = 0\n",
        "\n",
        "if resultado % 2 == 0:\n",
        "    print(f\"El resultado es {resultado} y es par.\")\n",
        "else:\n",
        "    print(f\"El resultado es {resultado} y es impar.\")\n",
        "\n",
        "if resultado > 0:\n",
        "    print(f\"El resultado es {resultado} y es positivo.\")\n",
        "else:\n",
        "    print(f\"El resultado es {resultado} y es negativo.\")\n",
        "\n",
        "if resultado % 1 == 0:\n",
        "    print(f\"El resultado es {resultado} y es entero.\")\n",
        "else:\n",
        "    print(f\"El resultado es {resultado} y es decimal.\")"
      ],
      "metadata": {
        "colab": {
          "base_uri": "https://localhost:8080/"
        },
        "id": "GumKvLfzCNub",
        "outputId": "266ec49d-3b24-4b04-eccc-54a43a114354"
      },
      "execution_count": null,
      "outputs": [
        {
          "output_type": "stream",
          "name": "stdout",
          "text": [
            "Escribe el primer número: 2\n",
            "Escribe el segundo número: 3\n",
            "¿Qué operación deseas realizar? (suma, resta, multiplicacion, division): hola\n",
            "Operación inválida.\n",
            "El resultado es 0 y es par.\n",
            "El resultado es 0 y es negativo.\n",
            "El resultado es 0 y es entero.\n"
          ]
        }
      ]
    },
    {
      "cell_type": "code",
      "source": [
        "# Recolectamos los lados de un triángulo\n",
        "\n",
        "lado1 = float(input(\"Escribe la longitud del primer lado: \"))\n",
        "lado2 = float(input(\"Escribe la longitud del segundo lado: \"))\n",
        "lado3 = float(input(\"Escribe la longitud del tercer lado: \"))\n",
        "\n",
        "# Verificamos si los lados pueden formar un triángulo\n",
        "\n",
        "if lado1 + lado2 > lado3 and (lado2 + lado3 > lado1) and (lado1 + lado3 > lado2):\n",
        "  print(\"Se puede formar un triángulo.\")\n",
        "  if lado1 == lado2 and lado1 == lado3:\n",
        "    print(\"El triángulo es equilátero.\")\n",
        "  elif (lado1 != lado2) and (lado2 != lado3) and (lado1 != lado3):\n",
        "    print(\"El triángulo es escaleno.\")\n",
        "  else:\n",
        "    print(\"El triángulo es isósceles.\")\n",
        "else:\n",
        "  print(\"No se puede formar un triángulo.\")"
      ],
      "metadata": {
        "colab": {
          "base_uri": "https://localhost:8080/"
        },
        "id": "yOVYcrePInUq",
        "outputId": "b2b6968c-99c4-4447-e159-6f20d1b42b6e"
      },
      "execution_count": null,
      "outputs": [
        {
          "output_type": "stream",
          "name": "stdout",
          "text": [
            "Escribe la longitud del primer lado: 6\n",
            "Escribe la longitud del segundo lado: 2\n",
            "Escribe la longitud del tercer lado: 5\n",
            "Se puede formar un triángulo.\n",
            "El triángulo es escaleno.\n"
          ]
        }
      ]
    },
    {
      "cell_type": "code",
      "source": [
        "\"\"\"\n",
        "Un establecimiento está vendiendo combustibles con descuentos variables. Para el etanol, si la cantidad comprada es de hasta 15 litros, el descuento será del 2% por litro. En caso contrario, será del 4% por litro. Para el diésel, si la cantidad comprada es de hasta 15 litros, el descuento será del 3% por litro. En caso contrario, será del 5% por litro. El precio por litro de diésel es de R$ 2,00 y el precio por litro de etanol es de R$ 1,70. Escribe un programa que lea la cantidad de litros vendidos y el tipo de combustible (E para etanol y D para diésel) y calcule el valor a pagar por el cliente. Ten en cuenta algunas sugerencias:\n",
        "\n",
        "    El valor del descuento será el producto del precio por litro, la cantidad de litros y el valor del descuento.\n",
        "    El valor a pagar por un cliente será el resultado de la multiplicación del precio por litro por la cantidad de litros menos el valor del descuento resultante del cálculo.\n",
        "\"\"\"\n",
        "\n",
        "cantidad_litros = float(input('Ingrese la cantidad de litros vendidos: '))\n",
        "tipo_combustible = input('Ingrese el tipo de combustible (E para etanol y D para diésel): ').upper()\n",
        "\n",
        "# Verificamos primero el tipo de combustible\n",
        "if tipo_combustible == 'E':\n",
        "  # Establecemos el precio por litro de etanol\n",
        "  precio_litro = 1.70\n",
        "  # Según la cantidad de litros, establecemos el descuento correspondiente\n",
        "  if cantidad_litros <= 15:\n",
        "    descuento = 0.02\n",
        "  else:\n",
        "    descuento = 0.04\n",
        "\n",
        "elif tipo_combustible == 'D':\n",
        "  # Establecemos el precio por litro de댓sel\n",
        "  precio_litro = 2.00\n",
        "  # Según la cantidad de litros, establecemos el descuento correspondiente\n",
        "  if cantidad_litros <= 15:\n",
        "    descuento = 0.03\n",
        "  else:\n",
        "    descuento = 0.05\n",
        "\n",
        "else:\n",
        "  print('Tipo de combustible inválido.')\n",
        "  precio_litro = 0.0\n",
        "  descuento = 0.0\n",
        "\n",
        "valor_descuento = precio_litro * cantidad_litros * descuento\n",
        "valor_a_pagar = precio_litro * cantidad_litros - valor_descuento\n",
        "\n",
        "print(f'El valor del descuento es: {valor_descuento}')\n",
        "print(f'El valor total a pagar por el cliente es: {valor_a_pagar}')"
      ],
      "metadata": {
        "colab": {
          "base_uri": "https://localhost:8080/"
        },
        "id": "7gOC1zKBJlnW",
        "outputId": "c4e91794-9fe6-416b-f532-275dfcfa0d2f"
      },
      "execution_count": null,
      "outputs": [
        {
          "output_type": "stream",
          "name": "stdout",
          "text": [
            "Ingrese la cantidad de litros vendidos: 10\n",
            "Ingrese el tipo de combustible (E para etanol y D para diésel): e\n",
            "El valor del descuento es: 0.34\n",
            "El valor total a pagar por el cliente es: 16.66\n"
          ]
        }
      ]
    },
    {
      "cell_type": "code",
      "source": [
        "'''\n",
        "En una empresa de venta de bienes raíces, debes crear un código que analice los datos de ventas anuales para ayudar a la dirección en la toma de decisiones. El código debe recopilar los datos de cantidad de ventas durante los años 2022 y 2023 y calcular la variación porcentual. A partir del valor de la variación, se deben proporcionar las siguientes sugerencias:\n",
        "\n",
        "    Para una variación superior al 20%: bonificación para el equipo de ventas.\n",
        "    Para una variación entre el 2% y el 20%: pequeña bonificación para el equipo de ventas.\n",
        "    Para una variación entre el 2% y el -10%: planificación de políticas de incentivo a las ventas.\n",
        "    Para bonificaciones inferiores al -10%: recorte de gastos.\n",
        "'''\n",
        "\n",
        "# Recolectamos las ventas de los dos años\n",
        "\n",
        "ventas_2022 = float(input('Ingrese las ventas del año 2022: '))\n",
        "ventas_2023 = float(input('Ingrese las ventas del año 2023: '))\n",
        "\n",
        "# Calculamos la variación porcentual entre las ventas de los años 2022 y 2023\n",
        "\n",
        "variacion_porcentual = ((ventas_2023 - ventas_2022) / ventas_2022) * 100\n",
        "print(variacion_porcentual)\n",
        "\n",
        "# Verificamos la variación porcentual y proporcionamos sugerencias\n",
        "\n",
        "if variacion_porcentual > 20:\n",
        "  print('Bonificación para el equipo de ventas.')\n",
        "elif 2 <= variacion_porcentual <= 20:\n",
        "  print('Pequeña bonificación para el equipo de ventas.')\n",
        "elif -10 <= variacion_porcentual < 2:\n",
        "  print('Planificación de políticas de incentivo a las ventas.')\n",
        "else:\n",
        "  print('Recorte de gastos.')"
      ],
      "metadata": {
        "colab": {
          "base_uri": "https://localhost:8080/"
        },
        "id": "JGpOwWgkLomG",
        "outputId": "02653a27-2c8a-47d7-d1f0-59f0f2a1c917"
      },
      "execution_count": null,
      "outputs": [
        {
          "output_type": "stream",
          "name": "stdout",
          "text": [
            "Ingrese las ventas del año 2022: 25000\n",
            "Ingrese las ventas del año 2023: 35000\n",
            "40.0\n",
            "Bonificación para el equipo de ventas.\n"
          ]
        }
      ]
    },
    {
      "cell_type": "markdown",
      "source": [
        "21# Estructuras de repetición"
      ],
      "metadata": {
        "id": "aL1vJPewvwvz"
      }
    },
    {
      "cell_type": "markdown",
      "source": [
        "Cuando tenemos que ejecutar un mismo bloque de comandos durante varias ocasiones no es nada práctico hacerlo a mano.\n",
        "\n",
        "**Situación**: Nos fue solicitado obtener e imprimir el promedio de 2 notas de **3 estudantes**:"
      ],
      "metadata": {
        "id": "VcPfCa8d-84t"
      }
    },
    {
      "cell_type": "code",
      "source": [
        "nota_1 = float(input('Escribe la nota 1: '))\n",
        "nota_2 = float(input('Escribe la nota 2: '))\n",
        "print(f'El promedio del estudiante 1 es: {(nota_1 + nota_2) / 2}')\n",
        "\n",
        "nota_1 = float(input('Escribe la nota 1: '))\n",
        "nota_2 = float(input('Escribe la nota 2: '))\n",
        "print(f'El promedio del estudiante 2 es: {(nota_1 + nota_2) / 2}')\n",
        "\n",
        "nota_1 = float(input('Escribe la nota 1: '))\n",
        "nota_2 = float(input('Escribe la nota 2: '))\n",
        "print(f'El promedio del estudiante 3 es: {(nota_1 + nota_2) / 2}')"
      ],
      "metadata": {
        "id": "xcx21IGT9qA0",
        "colab": {
          "base_uri": "https://localhost:8080/"
        },
        "outputId": "20dd6070-945e-401e-b2de-276f0846b1bf"
      },
      "execution_count": null,
      "outputs": [
        {
          "output_type": "stream",
          "name": "stdout",
          "text": [
            "Escribe la nota 1: 6.5\n",
            "Escribe la nota 2: 8.5\n",
            "El promedio del estudiante 1 es: 7.5\n",
            "Escribe la nota 1: 8.3\n",
            "Escribe la nota 2: 9\n",
            "El promedio del estudiante 2 es: 8.65\n",
            "Escribe la nota 1: 10\n",
            "Escribe la nota 2: 6\n",
            "El promedio del estudiante 3 es: 8.0\n"
          ]
        }
      ]
    },
    {
      "cell_type": "code",
      "source": [],
      "metadata": {
        "id": "Wtbiy9Ay9rGJ"
      },
      "execution_count": null,
      "outputs": []
    },
    {
      "cell_type": "code",
      "source": [],
      "metadata": {
        "id": "Yfyz4anY9rIr"
      },
      "execution_count": null,
      "outputs": []
    },
    {
      "cell_type": "markdown",
      "source": [
        "Ahora imaginemos una situación en que no son tan solo 3 estudiantes, sino 100 estudiantes. No sería nada interesante repetir el mismo código 100 veces, sino **ejecutar el mismo código 100 veces**.\n",
        "\n",
        "¡Esta estructura la logramos construir con lazos de repetición!"
      ],
      "metadata": {
        "id": "9puIuvUbFSFX"
      }
    },
    {
      "cell_type": "markdown",
      "source": [
        "## `WHILE`"
      ],
      "metadata": {
        "id": "uLO9-aE4-wx8"
      }
    },
    {
      "cell_type": "markdown",
      "source": [
        "El lazo `while` es una estructura de control de repetición en Python que permite ejecutar un bloque de código repetidamente mientras que una determinada condición sea verdadera. Su estructura es:\n",
        "\n",
        "\n",
        "\n",
        "```\n",
        "while condicion:\n",
        "    # bloque de codigo\n",
        "```\n",
        "\n",
        "Vamos a construir un ejemplo con un contador de 1 hasta 10.\n"
      ],
      "metadata": {
        "id": "rXZxDMiqHxm9"
      }
    },
    {
      "cell_type": "code",
      "source": [
        "contador = 1\n",
        "\n",
        "while contador <= 10:\n",
        "  print(contador)\n",
        "  contador += 1"
      ],
      "metadata": {
        "id": "Hd0ZSWxD9wCD",
        "colab": {
          "base_uri": "https://localhost:8080/"
        },
        "outputId": "b5620e47-0d41-48a9-c137-24940c12b468"
      },
      "execution_count": 3,
      "outputs": [
        {
          "output_type": "stream",
          "name": "stdout",
          "text": [
            "1\n",
            "2\n",
            "3\n",
            "4\n",
            "5\n",
            "6\n",
            "7\n",
            "8\n",
            "9\n",
            "10\n"
          ]
        }
      ]
    },
    {
      "cell_type": "code",
      "source": [],
      "metadata": {
        "id": "miFHNqp29nOL"
      },
      "execution_count": null,
      "outputs": []
    },
    {
      "cell_type": "markdown",
      "source": [
        "Ahora vamos a colectar las notas y promedios de cada alumno dentro del lazo `while`. Haremos un ejemplo con 3 promedios."
      ],
      "metadata": {
        "id": "W4KZPBJuIrut"
      }
    },
    {
      "cell_type": "code",
      "source": [
        "contador = 1\n",
        "\n",
        "while contador <= 3:\n",
        "  nota_1 = float(input('Escribe la nota 1: '))\n",
        "  nota_2 = float(input('Escribe la nota 2: '))\n",
        "  print(f'El promedio del estudiante {contador} es: {(nota_1 + nota_2) / 2}')\n",
        "  contador += 1"
      ],
      "metadata": {
        "id": "9T5eCLFx9wk6",
        "colab": {
          "base_uri": "https://localhost:8080/"
        },
        "outputId": "2353f145-0b92-473d-9c25-49f8b4b89222"
      },
      "execution_count": 4,
      "outputs": [
        {
          "output_type": "stream",
          "name": "stdout",
          "text": [
            "Escribe la nota 1: 8.5\n",
            "Escribe la nota 2: 5.7\n",
            "El promedio del estudiante 1 es: 7.1\n",
            "Escribe la nota 1: 6.5\n",
            "Escribe la nota 2: 10\n",
            "El promedio del estudiante 2 es: 8.25\n",
            "Escribe la nota 1: 9\n",
            "Escribe la nota 2: 7\n",
            "El promedio del estudiante 3 es: 8.0\n"
          ]
        }
      ]
    },
    {
      "cell_type": "markdown",
      "source": [
        "## `FOR`"
      ],
      "metadata": {
        "id": "WgAIaENMMfCP"
      }
    },
    {
      "cell_type": "markdown",
      "source": [
        "El lazo `for` es un tipo de estructura de control de flujo en Python que permite iterar sobre un conjunto de elementos. Su estructura es:\n",
        "\n",
        "\n",
        "\n",
        "```\n",
        "for elemento in conjunto:\n",
        "    # codigo a ser ejecutado para cada elemento\n",
        "```\n",
        "\n",
        "El lazo `for` itera sobre cada elemento del conjunto especificado y ejecuta el bloque de código dentro del lazo para cada elemento. Cuando el lazo llega al final del conjunto, este se interrumpe y el programa continúa la ejecución después del lazo.\n",
        "\n"
      ],
      "metadata": {
        "id": "HxrSZoRAMh-x"
      }
    },
    {
      "cell_type": "markdown",
      "source": [
        "El conjunto lo podemos generar con la función incorporada [`range()`](https://docs.python.org/3/library/functions.html#func-range). Se trata de una función capaz de generar una secuencia de números enteros. La estructura de esta función es:\n",
        "\n",
        "```\n",
        "range(inicio, fin, paso)\n",
        "```\n",
        "\n",
        "Según la documentación, `range()` genera una secuencia de números enteros a partir del valor del parámetro `inicio` hasta el valor del parámetro `fin`, de acuerdo con el valor del parámetro `paso`. Si `inicio` no es especificado, el valor por defecto es `0`. Si `paso` no es especificado, el valor por defecto es `1`.\n",
        "\n",
        "\n"
      ],
      "metadata": {
        "id": "6VgjyoQtPHBM"
      }
    },
    {
      "cell_type": "markdown",
      "source": [
        "Vamos a recrear el mismo contador `while` con el lazo `for`."
      ],
      "metadata": {
        "id": "ryn0hfdlUwC8"
      }
    },
    {
      "cell_type": "code",
      "source": [
        "for n in range(1,11):\n",
        "  print(n)"
      ],
      "metadata": {
        "id": "KkL1wUIj9jL4",
        "colab": {
          "base_uri": "https://localhost:8080/"
        },
        "outputId": "a81ea4d1-24ee-438e-e917-f010ddbdd7ed"
      },
      "execution_count": 5,
      "outputs": [
        {
          "output_type": "stream",
          "name": "stdout",
          "text": [
            "1\n",
            "2\n",
            "3\n",
            "4\n",
            "5\n",
            "6\n",
            "7\n",
            "8\n",
            "9\n",
            "10\n"
          ]
        }
      ]
    },
    {
      "cell_type": "code",
      "source": [
        "for e in range(1,4):\n",
        "  nota_1 = float(input('Escribe la nota 1: '))\n",
        "  nota_2 = float(input('Escribe la nota 2: '))\n",
        "  print(f'El promedio del estudiante es: {(nota_1 + nota_2) / 2}')"
      ],
      "metadata": {
        "id": "uXIZnLSr9jOu",
        "colab": {
          "base_uri": "https://localhost:8080/"
        },
        "outputId": "79f18bb2-972a-4d8f-88dd-d6c79870fadb"
      },
      "execution_count": 8,
      "outputs": [
        {
          "output_type": "stream",
          "name": "stdout",
          "text": [
            "Escribe la nota 1: 7\n",
            "Escribe la nota 2: 10\n",
            "El promedio del estudiante es: 8.5\n",
            "Escribe la nota 1: 9.5\n",
            "Escribe la nota 2: 7.4\n",
            "El promedio del estudiante es: 8.45\n",
            "Escribe la nota 1: 9.1\n",
            "Escribe la nota 2: 9.5\n",
            "El promedio del estudiante es: 9.3\n"
          ]
        }
      ]
    },
    {
      "cell_type": "code",
      "source": [
        "for i in range(1, 6):\n",
        "    if i == 4:\n",
        "        continue\n",
        "    print(i)\n"
      ],
      "metadata": {
        "colab": {
          "base_uri": "https://localhost:8080/"
        },
        "id": "A9kh4DhwFObk",
        "outputId": "ae0307ea-93a3-49d2-d1ff-76fe4039d7f5"
      },
      "execution_count": 9,
      "outputs": [
        {
          "output_type": "stream",
          "name": "stdout",
          "text": [
            "1\n",
            "2\n",
            "3\n",
            "5\n"
          ]
        }
      ]
    },
    {
      "cell_type": "code",
      "source": [
        "for i in range(1, 6):\n",
        "    if i == 4:\n",
        "        break\n",
        "    print(i)\n"
      ],
      "metadata": {
        "colab": {
          "base_uri": "https://localhost:8080/"
        },
        "id": "BdhyIYeNFWwl",
        "outputId": "0b8c6733-49fe-4c61-8d26-73e0299c0396"
      },
      "execution_count": 10,
      "outputs": [
        {
          "output_type": "stream",
          "name": "stdout",
          "text": [
            "1\n",
            "2\n",
            "3\n"
          ]
        }
      ]
    },
    {
      "cell_type": "code",
      "source": [
        "# Escribe un programa que solicite dos números enteros e imprima todos los números enteros entre ellos.\n",
        "x1 = int(input('Esriba el primer número: '))\n",
        "x2 = int(input('Esriba el segundo número: '))\n",
        "\n",
        "for i in range(x1 + 1, x2):\n",
        "  print(i)\n"
      ],
      "metadata": {
        "colab": {
          "base_uri": "https://localhost:8080/"
        },
        "id": "yMYrJFeGF814",
        "outputId": "c301a8cc-73bc-4dd3-fa27-9082d4e317a5"
      },
      "execution_count": 12,
      "outputs": [
        {
          "output_type": "stream",
          "name": "stdout",
          "text": [
            "Esriba el primer número: 3\n",
            "Esriba el segundo número: 10\n",
            "4\n",
            "5\n",
            "6\n",
            "7\n",
            "8\n",
            "9\n"
          ]
        }
      ]
    },
    {
      "cell_type": "code",
      "source": [
        "#solución del ej anterior de Alura\n",
        "\n",
        "inicio = int(input('Ingresa el primer número entero: '))\n",
        "fin = int(input('Ingresa el segundo número entero: '))\n",
        "\n",
        "# Verificamos si el valor de inicio es menor que el fin\n",
        "if inicio < fin:\n",
        "  # Podemos imprimir los enteros entre el valor menor y el valor mayor\n",
        "  for i in range(inicio + 1, fin):\n",
        "    print(i)\n",
        "elif inicio > fin:\n",
        "  for i in range(fin + 1, inicio):\n",
        "    print(i)\n",
        "else: # En caso de que los números sean iguales, no podemos imprimir ninguna secuencia.\n",
        "  print('Los números son iguales.')"
      ],
      "metadata": {
        "colab": {
          "base_uri": "https://localhost:8080/"
        },
        "id": "vd2ArnNQJ6T5",
        "outputId": "2a76591f-6876-4bd7-a0be-671d32f0a39c"
      },
      "execution_count": 15,
      "outputs": [
        {
          "output_type": "stream",
          "name": "stdout",
          "text": [
            "Ingresa el primer número entero: 10\n",
            "Ingresa el segundo número entero: 10\n",
            "Los números son iguales.\n"
          ]
        }
      ]
    },
    {
      "cell_type": "code",
      "source": [
        "# Escribe un programa para calcular cuántos días tomará que la colonia de una bacteria A supere o iguale a la colonia de una bacteria B, basado en tasas de crecimiento del 3% y 1.5%, respectivamente. Supón que la colonia A comienza con 4 elementos y B con 10.\n",
        "\n",
        "colonia_a = 4\n",
        "colonia_b = 10\n",
        "\n",
        "tasa_a = 0.03\n",
        "tasa_b = 0.015\n",
        "\n",
        "dias = 0\n",
        "\n",
        "while colonia_a <= colonia_b:\n",
        "  colonia_a *= (1 + tasa_a)\n",
        "  colonia_b *= (1 + tasa_b)\n",
        "  dias += 1\n",
        "  print(f'Día {dias}: Colonia A = {colonia_a}, Colonia B = {colonia_b}')\n",
        "\n",
        "print(f'Tomará {dias} días para que la colonia A supere o iguale a la colonia B.')"
      ],
      "metadata": {
        "colab": {
          "base_uri": "https://localhost:8080/"
        },
        "id": "7omoY1CMIEJa",
        "outputId": "28c81d70-4586-42e9-aa96-b98741fcf3a3"
      },
      "execution_count": 16,
      "outputs": [
        {
          "output_type": "stream",
          "name": "stdout",
          "text": [
            "Día 1: Colonia A = 4.12, Colonia B = 10.149999999999999\n",
            "Día 2: Colonia A = 4.2436, Colonia B = 10.302249999999997\n",
            "Día 3: Colonia A = 4.370908, Colonia B = 10.456783749999996\n",
            "Día 4: Colonia A = 4.5020352400000005, Colonia B = 10.613635506249995\n",
            "Día 5: Colonia A = 4.6370962972, Colonia B = 10.772840038843745\n",
            "Día 6: Colonia A = 4.7762091861160005, Colonia B = 10.934432639426399\n",
            "Día 7: Colonia A = 4.919495461699481, Colonia B = 11.098449129017794\n",
            "Día 8: Colonia A = 5.0670803255504655, Colonia B = 11.26492586595306\n",
            "Día 9: Colonia A = 5.21909273531698, Colonia B = 11.433899753942356\n",
            "Día 10: Colonia A = 5.375665517376489, Colonia B = 11.60540825025149\n",
            "Día 11: Colonia A = 5.536935482897784, Colonia B = 11.77948937400526\n",
            "Día 12: Colonia A = 5.703043547384717, Colonia B = 11.956181714615338\n",
            "Día 13: Colonia A = 5.874134853806259, Colonia B = 12.135524440334567\n",
            "Día 14: Colonia A = 6.050358899420448, Colonia B = 12.317557306939584\n",
            "Día 15: Colonia A = 6.231869666403061, Colonia B = 12.502320666543676\n",
            "Día 16: Colonia A = 6.418825756395154, Colonia B = 12.68985547654183\n",
            "Día 17: Colonia A = 6.611390529087008, Colonia B = 12.880203308689955\n",
            "Día 18: Colonia A = 6.809732244959618, Colonia B = 13.073406358320304\n",
            "Día 19: Colonia A = 7.014024212308407, Colonia B = 13.269507453695107\n",
            "Día 20: Colonia A = 7.22444493867766, Colonia B = 13.468550065500532\n",
            "Día 21: Colonia A = 7.4411782868379905, Colonia B = 13.670578316483038\n",
            "Día 22: Colonia A = 7.664413635443131, Colonia B = 13.875636991230282\n",
            "Día 23: Colonia A = 7.894346044506425, Colonia B = 14.083771546098735\n",
            "Día 24: Colonia A = 8.131176425841618, Colonia B = 14.295028119290214\n",
            "Día 25: Colonia A = 8.375111718616866, Colonia B = 14.509453541079566\n",
            "Día 26: Colonia A = 8.626365070175373, Colonia B = 14.727095344195758\n",
            "Día 27: Colonia A = 8.885156022280635, Colonia B = 14.948001774358694\n",
            "Día 28: Colonia A = 9.151710702949053, Colonia B = 15.172221800974073\n",
            "Día 29: Colonia A = 9.426262024037525, Colonia B = 15.399805127988683\n",
            "Día 30: Colonia A = 9.70904988475865, Colonia B = 15.630802204908512\n",
            "Día 31: Colonia A = 10.00032138130141, Colonia B = 15.865264237982139\n",
            "Día 32: Colonia A = 10.300331022740453, Colonia B = 16.10324320155187\n",
            "Día 33: Colonia A = 10.609340953422667, Colonia B = 16.344791849575145\n",
            "Día 34: Colonia A = 10.927621182025346, Colonia B = 16.58996372731877\n",
            "Día 35: Colonia A = 11.255449817486106, Colonia B = 16.838813183228552\n",
            "Día 36: Colonia A = 11.59311331201069, Colonia B = 17.09139538097698\n",
            "Día 37: Colonia A = 11.94090671137101, Colonia B = 17.347766311691633\n",
            "Día 38: Colonia A = 12.29913391271214, Colonia B = 17.607982806367005\n",
            "Día 39: Colonia A = 12.668107930093505, Colonia B = 17.872102548462507\n",
            "Día 40: Colonia A = 13.048151167996311, Colonia B = 18.140184086689445\n",
            "Día 41: Colonia A = 13.4395957030362, Colonia B = 18.412286847989783\n",
            "Día 42: Colonia A = 13.842783574127287, Colonia B = 18.688471150709628\n",
            "Día 43: Colonia A = 14.258067081351106, Colonia B = 18.96879821797027\n",
            "Día 44: Colonia A = 14.68580909379164, Colonia B = 19.253330191239822\n",
            "Día 45: Colonia A = 15.12638336660539, Colonia B = 19.542130144108416\n",
            "Día 46: Colonia A = 15.580174867603553, Colonia B = 19.83526209627004\n",
            "Día 47: Colonia A = 16.04758011363166, Colonia B = 20.132791027714088\n",
            "Día 48: Colonia A = 16.52900751704061, Colonia B = 20.434782893129796\n",
            "Día 49: Colonia A = 17.02487774255183, Colonia B = 20.741304636526742\n",
            "Día 50: Colonia A = 17.535624074828384, Colonia B = 21.05242420607464\n",
            "Día 51: Colonia A = 18.061692797073235, Colonia B = 21.368210569165758\n",
            "Día 52: Colonia A = 18.60354358098543, Colonia B = 21.68873372770324\n",
            "Día 53: Colonia A = 19.161649888414996, Colonia B = 22.01406473361879\n",
            "Día 54: Colonia A = 19.736499385067447, Colonia B = 22.34427570462307\n",
            "Día 55: Colonia A = 20.32859436661947, Colonia B = 22.679439840192412\n",
            "Día 56: Colonia A = 20.938452197618055, Colonia B = 23.019631437795297\n",
            "Día 57: Colonia A = 21.566605763546598, Colonia B = 23.364925909362224\n",
            "Día 58: Colonia A = 22.213603936452998, Colonia B = 23.715399798002654\n",
            "Día 59: Colonia A = 22.880012054546587, Colonia B = 24.071130794972692\n",
            "Día 60: Colonia A = 23.566412416182985, Colonia B = 24.43219775689728\n",
            "Día 61: Colonia A = 24.273404788668476, Colonia B = 24.798680723250737\n",
            "Día 62: Colonia A = 25.00160693232853, Colonia B = 25.170660934099494\n",
            "Día 63: Colonia A = 25.75165514029839, Colonia B = 25.548220848110983\n",
            "Tomará 63 días para que la colonia A supere o iguale a la colonia B.\n"
          ]
        }
      ]
    },
    {
      "cell_type": "code",
      "source": [
        "# Para procesar una cantidad de 15 datos de evaluaciones de usuarios de un servicio de la empresa, necesitamos verificar si las calificaciones son válidas. Por lo tanto, escribe un programa que recibirá calificaciones del 0 al 5 y verificará si son valores válidos. Si se ingresa una calificación superior a 5 o inferior a 0, se repetirá hasta que el usuario ingrese un valor válido.\n",
        "\n",
        "#Declaré válidas e inválidas porque quise agregar una funcionalidad extra al ejercicio, inician en cero porque son contadores. Quiero que al final me diga el programa la cantidad de respuestas válidas e inválidas.\n",
        "validas = 0\n",
        "invalidas = 0\n",
        "\n",
        "for i in range(15):\n",
        "  calificacion = float(input(f'Usuario número {i+1}. Escribe una calificación del 0 al 5: '))\n",
        "  while calificacion < 0 or calificacion > 5:\n",
        "    print('Calificación inválida.')\n",
        "    invalidas += 1\n",
        "    calificacion = float(input('Escribe una calificación del 0 al 5: '))\n",
        "\n",
        "  validas += 1\n",
        "\n",
        "print(f'Calificaciones válidas: {validas}')\n",
        "print(f'Calificaciones inválidas: {invalidas}')\n",
        "\n",
        "\n"
      ],
      "metadata": {
        "colab": {
          "base_uri": "https://localhost:8080/"
        },
        "id": "3W5OBRQiSoxL",
        "outputId": "4c3be877-c6f5-4574-cde1-acaebf1cade3"
      },
      "execution_count": 24,
      "outputs": [
        {
          "output_type": "stream",
          "name": "stdout",
          "text": [
            "Usuario número 1. Escribe una calificación del 0 al 5: 2\n",
            "Usuario número 2. Escribe una calificación del 0 al 5: 3\n",
            "Usuario número 3. Escribe una calificación del 0 al 5: 4\n",
            "Usuario número 4. Escribe una calificación del 0 al 5: 5\n",
            "Usuario número 5. Escribe una calificación del 0 al 5: 1\n",
            "Usuario número 6. Escribe una calificación del 0 al 5: 9\n",
            "Calificación inválida.\n",
            "Escribe una calificación del 0 al 5: 3\n",
            "Usuario número 7. Escribe una calificación del 0 al 5: 4\n",
            "Usuario número 8. Escribe una calificación del 0 al 5: 2\n",
            "Usuario número 9. Escribe una calificación del 0 al 5: 5\n",
            "Usuario número 10. Escribe una calificación del 0 al 5: 7\n",
            "Calificación inválida.\n",
            "Escribe una calificación del 0 al 5: 1\n",
            "Usuario número 11. Escribe una calificación del 0 al 5: 2\n",
            "Usuario número 12. Escribe una calificación del 0 al 5: 3\n",
            "Usuario número 13. Escribe una calificación del 0 al 5: -1\n",
            "Calificación inválida.\n",
            "Escribe una calificación del 0 al 5: 4\n",
            "Usuario número 14. Escribe una calificación del 0 al 5: 5\n",
            "Usuario número 15. Escribe una calificación del 0 al 5: 4\n",
            "Calificaciones válidas: 15\n",
            "Calificaciones inválidas: 3\n"
          ]
        }
      ]
    },
    {
      "cell_type": "code",
      "source": [],
      "metadata": {
        "id": "bxa7jdaNSpVZ"
      },
      "execution_count": null,
      "outputs": []
    },
    {
      "cell_type": "code",
      "source": [],
      "metadata": {
        "id": "3Hi5iKkGSpdj"
      },
      "execution_count": null,
      "outputs": []
    },
    {
      "cell_type": "code",
      "source": [],
      "metadata": {
        "id": "dOhpMQyLSpkx"
      },
      "execution_count": null,
      "outputs": []
    },
    {
      "cell_type": "markdown",
      "source": [
        "# Estructuras de datos"
      ],
      "metadata": {
        "id": "8noP8OJ0Vhux"
      }
    },
    {
      "cell_type": "markdown",
      "source": [
        "Un conjunto de elementos es una colección de items, que son almacenados juntos de manera organizada. Algunos ejemplos de conjuntos de elementos en Python son las listas, los strings y los diccionarios."
      ],
      "metadata": {
        "id": "xpEUkefTu8fY"
      }
    },
    {
      "cell_type": "markdown",
      "source": [
        "## Listas"
      ],
      "metadata": {
        "id": "THSg4KYLwxIb"
      }
    },
    {
      "cell_type": "markdown",
      "source": [
        "Las listas pueden almacenar una colección de items en orden. Ellas son delimitadas por corchetes `[]` y sus elementos son separados por comas.\n",
        "\n",
        "Estas pueden almacenar cualquier tipo de items, incluyendo números, strings, objetos, otras listas, entre otros. También nos permiten almacenar items de tipos de datos diferentes juntos en una única lista."
      ],
      "metadata": {
        "id": "dzpsiqrOyJcK"
      }
    },
    {
      "cell_type": "code",
      "source": [
        "lista = ['Penélope Camacho',9.5,9.0,9.7,True]\n",
        "lista"
      ],
      "metadata": {
        "id": "DO3TBj7nAYeG",
        "colab": {
          "base_uri": "https://localhost:8080/"
        },
        "outputId": "cd7bf624-d160-45cc-a249-9c265c27e712"
      },
      "execution_count": null,
      "outputs": [
        {
          "output_type": "execute_result",
          "data": {
            "text/plain": [
              "['Penélope Camacho', 9.5, 9.0, 9.7, True]"
            ]
          },
          "metadata": {},
          "execution_count": 48
        }
      ]
    },
    {
      "cell_type": "code",
      "source": [],
      "metadata": {
        "id": "DO2ubP9N9D_2"
      },
      "execution_count": null,
      "outputs": []
    },
    {
      "cell_type": "markdown",
      "source": [
        "Las listas son organizadas en Python porque **cada elemento de la lista tiene un índice que indica su posición al interior de la lista**. Los índices comienzan en 0 van hasta el tamaño de la lista menos 1."
      ],
      "metadata": {
        "id": "qUz3sJNl6LgK"
      }
    },
    {
      "cell_type": "markdown",
      "source": [
        "Tenemos entonces 5 elementos con índices que varían de 0 a 4, ordenadamente:\n",
        "\n",
        "```\n",
        "#             [0]           [1]   [2]   [3]    [4]\n",
        "lista = ['Penélope Camacho', 9.5 , 9.0 , 9.7 , True]\n",
        "```\n",
        "\n",
        "En Python tenemos también los índices **negativos** que se inician en el último elemento con el valor de `-1` y avanzan en el universo de los negativos hasta llegar al 1° elemento:\n",
        "\n",
        "```\n",
        "#             [-5]         [-4]  [-3]  [-2]   [-1]\n",
        "lista = ['Penélope Camacho', 9.5 , 9.0 , 9.7 , True]\n",
        "```\n",
        "\n",
        "Logramos seleccionar separadamente cada elemento a través de sus respectivos índices. Colocando el nombre de la lista y en seguida el índice que será seleccionado."
      ],
      "metadata": {
        "id": "rLf-Qg526hFD"
      }
    },
    {
      "cell_type": "code",
      "source": [],
      "metadata": {
        "id": "4hco1Zqy88Kw"
      },
      "execution_count": null,
      "outputs": []
    },
    {
      "cell_type": "code",
      "source": [],
      "metadata": {
        "id": "M8lH0I2288Ph"
      },
      "execution_count": null,
      "outputs": []
    },
    {
      "cell_type": "markdown",
      "source": [
        "Una forma más dinámica de trabajar item a item en una lista es utilizando un lazo `for` para leer un elemento a la vez."
      ],
      "metadata": {
        "id": "6TaE1ijmBTCd"
      }
    },
    {
      "cell_type": "code",
      "source": [],
      "metadata": {
        "id": "rBx4Yu1786Sy"
      },
      "execution_count": null,
      "outputs": []
    },
    {
      "cell_type": "markdown",
      "source": [
        "**Situación**: La nota `9.0` de Penélope necesita ser ajustada pues ganó 1 punto en su última nota por participación en clase. Entonces es necesario realizar un cambio en el índice `2` de `9.0` a `10.0`."
      ],
      "metadata": {
        "id": "Dh1_HnIVvucY"
      }
    },
    {
      "cell_type": "code",
      "source": [],
      "metadata": {
        "id": "bVPoZg668z3T"
      },
      "execution_count": null,
      "outputs": []
    },
    {
      "cell_type": "code",
      "source": [],
      "metadata": {
        "id": "Jo_PBQ0g8z7D"
      },
      "execution_count": null,
      "outputs": []
    },
    {
      "cell_type": "markdown",
      "source": [
        "También podemos calcular el promedio del estudiante a partir de los datos que tenemos."
      ],
      "metadata": {
        "id": "53XduzXkycAf"
      }
    },
    {
      "cell_type": "code",
      "source": [],
      "metadata": {
        "id": "SIH61Rrb8yv4"
      },
      "execution_count": null,
      "outputs": []
    },
    {
      "cell_type": "markdown",
      "source": [
        "## Manipulación de listas\n",
        "\n",
        "Las listas son muy útiles en Python porque nos permiten almacenar y acceder a una colección de items de manera organizada y rápida. Estas también ofrecen muchos métodos útiles para manipular los itens almacenados, como adicionar, remover, clasificar y buscar elementos."
      ],
      "metadata": {
        "id": "d-iYr10-y4qw"
      }
    },
    {
      "cell_type": "markdown",
      "source": [
        "#### Cantidad de elementos\n",
        "\n",
        "Usamos la función [`len()`](https://docs.python.org/3/library/functions.html#len) para descubrir la cantidad de elementos de un conjunto."
      ],
      "metadata": {
        "id": "ZLqx9A97XVB_"
      }
    },
    {
      "cell_type": "code",
      "source": [],
      "metadata": {
        "id": "6q1Tmm7P8wQf"
      },
      "execution_count": null,
      "outputs": []
    },
    {
      "cell_type": "markdown",
      "source": [
        "#### Partición\n",
        "\n",
        "La partición de listas por indexación en Python es una técnica muy útil para seleccionar un subconjunto de elementos de una lista. Esta se realiza usando la sintaxis `lista[inicio:fin]`, donde `inicio` es el índice del primer elemento que será incluído en la partición `fin` es el índice del primer elemento que será excluído de la partición."
      ],
      "metadata": {
        "id": "Z5tpstlHJss3"
      }
    },
    {
      "cell_type": "code",
      "source": [],
      "metadata": {
        "id": "NctvJTTU8uV9"
      },
      "execution_count": null,
      "outputs": []
    },
    {
      "cell_type": "code",
      "source": [],
      "metadata": {
        "id": "bQZUwldj8uY2"
      },
      "execution_count": null,
      "outputs": []
    },
    {
      "cell_type": "markdown",
      "source": [
        "#### [`append()`](https://docs.python.org/3/tutorial/datastructures.html#:~:text=of%20list%20objects%3A-,list.append(x),-Add%20an%20item)\n",
        "\n",
        "Añade un elemento al final de la lista."
      ],
      "metadata": {
        "id": "O0RRyabkRzZC"
      }
    },
    {
      "cell_type": "code",
      "source": [],
      "metadata": {
        "id": "_Q0oODwa8spC"
      },
      "execution_count": null,
      "outputs": []
    },
    {
      "cell_type": "code",
      "source": [],
      "metadata": {
        "id": "RM894r2M8sse"
      },
      "execution_count": null,
      "outputs": []
    },
    {
      "cell_type": "markdown",
      "source": [
        "#### [`extend()`](https://docs.python.org/3/tutorial/datastructures.html#:~:text=list.extend(iterable))\n",
        "\n",
        "Añade varios elementos al final de la lista.\n",
        "\n",
        "Añadiremos las notas `[10.0,8.0,9.0]` En la lista de Penélope Camacho."
      ],
      "metadata": {
        "id": "uQV91XMsUOJD"
      }
    },
    {
      "cell_type": "code",
      "source": [],
      "metadata": {
        "id": "6Zk2MpMw8rQc"
      },
      "execution_count": null,
      "outputs": []
    },
    {
      "cell_type": "code",
      "source": [],
      "metadata": {
        "id": "NnoKkoWb8rTQ"
      },
      "execution_count": null,
      "outputs": []
    },
    {
      "cell_type": "markdown",
      "source": [
        "*A continuación te mostraremos lo que no puede realizarse con* `append`."
      ],
      "metadata": {
        "id": "IVJvkTwNUk6M"
      }
    },
    {
      "cell_type": "code",
      "source": [],
      "metadata": {
        "id": "u3Eub2ZL8pp3"
      },
      "execution_count": null,
      "outputs": []
    },
    {
      "cell_type": "code",
      "source": [],
      "metadata": {
        "id": "tsKK5Ne58pvN"
      },
      "execution_count": null,
      "outputs": []
    },
    {
      "cell_type": "markdown",
      "source": [
        "#### [`remove()`](https://docs.python.org/3/tutorial/datastructures.html#:~:text=append(x).-,list.remove(x),-Remove%20the%20first)\n",
        "\n",
        "Remueve un elemento específico de la lista."
      ],
      "metadata": {
        "id": "dPGM5gpyUX1z"
      }
    },
    {
      "cell_type": "code",
      "source": [],
      "metadata": {
        "id": "mmboODPc8nd5"
      },
      "execution_count": null,
      "outputs": []
    },
    {
      "cell_type": "code",
      "source": [],
      "metadata": {
        "id": "T_w6vVgV8nh_"
      },
      "execution_count": null,
      "outputs": []
    },
    {
      "cell_type": "markdown",
      "source": [
        "## Diccionario"
      ],
      "metadata": {
        "id": "Rc22Vc08YDZ2"
      }
    },
    {
      "cell_type": "markdown",
      "source": [
        "Los diccionarios son un tipo de estructura de datos que almacenan pares de *llave-valor*. Estos son delimitados por llaves `{}` y los pares *llave-valor* son separados por comas.\n",
        "\n",
        "```\n",
        "diccionario = {llave: valor}\n",
        "```\n",
        "\n",
        "La **llave** es un elemento único que identifica a un valor en el diccionario, mientras que el **valor** es el item que será almacenado para la llave. Las llaves y sus respectivos valores se pueden emplear para **cualquier tipo de dato**.\n",
        "\n",
        "Los diccionarios son útiles para almacenar y acceder a los datos de manera organizada y rápida. Se trata de un tipo de conjunto de elementos en Python, pues almacenan una colección de items."
      ],
      "metadata": {
        "id": "PJ-cCKPjeWxL"
      }
    },
    {
      "cell_type": "code",
      "source": [],
      "metadata": {
        "id": "NDHhzooE8ld5"
      },
      "execution_count": null,
      "outputs": []
    },
    {
      "cell_type": "code",
      "source": [],
      "metadata": {
        "id": "AVOzqzy-8lhh"
      },
      "execution_count": null,
      "outputs": []
    },
    {
      "cell_type": "markdown",
      "source": [
        "---\n",
        "**Situación:**\n",
        "\n",
        "Vamos a crear un conjunto de datos con las informaciones de matrícula de un estudiante. Los datos son los siguientes:\n",
        "\n",
        "- matrícula: 2000168933\n",
        "- día de registro: 25\n",
        "- mes de registro: 10\n",
        "- grupo: 2E"
      ],
      "metadata": {
        "id": "_JbQ3KMKfkXU"
      }
    },
    {
      "cell_type": "code",
      "source": [],
      "metadata": {
        "id": "0lfOu_c38jED"
      },
      "execution_count": null,
      "outputs": []
    },
    {
      "cell_type": "code",
      "source": [],
      "metadata": {
        "id": "XIuqpTTy8jHV"
      },
      "execution_count": null,
      "outputs": []
    },
    {
      "cell_type": "markdown",
      "source": [
        "Es posible sustituir los valores dentro de una llave. Por ejemplo, recibimos la información de que el grupo del estudiante que registramos cambio a `'2G'` y ahora necesitamos cambiar el valor de la llave `'grupo'`."
      ],
      "metadata": {
        "id": "8ex5pt2ykDd2"
      }
    },
    {
      "cell_type": "code",
      "source": [],
      "metadata": {
        "id": "kQGlp36b8fyP"
      },
      "execution_count": null,
      "outputs": []
    },
    {
      "cell_type": "code",
      "source": [],
      "metadata": {
        "id": "DnfH_qHi8f17"
      },
      "execution_count": null,
      "outputs": []
    },
    {
      "cell_type": "markdown",
      "source": [
        "También podemos añadir otros datos al diccionario. Vamos a añadir la información sobre la modalidad de estudio, nuestro estudiante estudiará inicialemente en la modalidad EAD.\n",
        "\n",
        "Definiremos una llave llamada `'modalidad'` con el valor `'EAD'`."
      ],
      "metadata": {
        "id": "wB0qRb56mQvv"
      }
    },
    {
      "cell_type": "code",
      "source": [],
      "metadata": {
        "id": "EeLYdlIm8d8a"
      },
      "execution_count": null,
      "outputs": []
    },
    {
      "cell_type": "code",
      "source": [],
      "metadata": {
        "id": "olDIavsm8d_o"
      },
      "execution_count": null,
      "outputs": []
    },
    {
      "cell_type": "markdown",
      "source": [
        "## Profundizando en diccionarios"
      ],
      "metadata": {
        "id": "LJ3o_inroxg_"
      }
    },
    {
      "cell_type": "markdown",
      "source": [
        "#### [`pop()`](https://python-reference.readthedocs.io/en/latest/docs/dict/pop.html)\n",
        "Remueve un item de un diccionario y lo representa en la salida."
      ],
      "metadata": {
        "id": "2N3GLlkSpBiu"
      }
    },
    {
      "cell_type": "code",
      "source": [],
      "metadata": {
        "id": "ZsSCZx6G8b-T"
      },
      "execution_count": null,
      "outputs": []
    },
    {
      "cell_type": "code",
      "source": [],
      "metadata": {
        "id": "7lQ8_jpi8cBR"
      },
      "execution_count": null,
      "outputs": []
    },
    {
      "cell_type": "markdown",
      "source": [
        "#### [`items()`](https://python-reference.readthedocs.io/en/latest/docs/dict/items.html)\n",
        "Retorna una lista de pares `llave-valor` del diccionario."
      ],
      "metadata": {
        "id": "sYZGvJJYrW_y"
      }
    },
    {
      "cell_type": "code",
      "source": [],
      "metadata": {
        "id": "ncdycLV08an7"
      },
      "execution_count": null,
      "outputs": []
    },
    {
      "cell_type": "markdown",
      "source": [
        "#### [`keys()`](https://python-reference.readthedocs.io/en/latest/docs/dict/keys.html)\n",
        "Retorna una lista de las llaves del diccionario."
      ],
      "metadata": {
        "id": "Lb0utNFGrZBY"
      }
    },
    {
      "cell_type": "code",
      "source": [],
      "metadata": {
        "id": "eZo0biaM8ZVs"
      },
      "execution_count": null,
      "outputs": []
    },
    {
      "cell_type": "markdown",
      "source": [
        "#### [`values()`](https://python-reference.readthedocs.io/en/latest/docs/dict/values.html)\n",
        "Retorna una lista de los valores del diccionario."
      ],
      "metadata": {
        "id": "qKyu3bf9rbtX"
      }
    },
    {
      "cell_type": "code",
      "source": [],
      "metadata": {
        "id": "-NxRT9C18Yvo"
      },
      "execution_count": null,
      "outputs": []
    },
    {
      "cell_type": "markdown",
      "source": [
        "### Lectura de valores con el lazo `for`"
      ],
      "metadata": {
        "id": "e3XVjR8Frp75"
      }
    },
    {
      "cell_type": "code",
      "source": [],
      "metadata": {
        "id": "NYcjU-Ip8Xan"
      },
      "execution_count": null,
      "outputs": []
    },
    {
      "cell_type": "code",
      "source": [],
      "metadata": {
        "id": "aAnpP1Wv8XfJ"
      },
      "execution_count": null,
      "outputs": []
    }
  ]
}